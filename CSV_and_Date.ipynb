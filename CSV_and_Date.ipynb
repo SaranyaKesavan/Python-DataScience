{
  "nbformat": 4,
  "nbformat_minor": 0,
  "metadata": {
    "colab": {
      "name": "week1-csv-date.ipynb",
      "provenance": [],
      "collapsed_sections": [],
      "include_colab_link": true
    },
    "kernelspec": {
      "name": "python3",
      "display_name": "Python 3"
    }
  },
  "cells": [
    {
      "cell_type": "markdown",
      "metadata": {
        "id": "view-in-github",
        "colab_type": "text"
      },
      "source": [
        "<a href=\"https://colab.research.google.com/github/SaranyaKesavan/Python-DataScience/blob/master/CSV_and_Date.ipynb\" target=\"_parent\"><img src=\"https://colab.research.google.com/assets/colab-badge.svg\" alt=\"Open In Colab\"/></a>"
      ]
    },
    {
      "cell_type": "markdown",
      "metadata": {
        "id": "JSxp3jsEr1YZ",
        "colab_type": "text"
      },
      "source": [
        "# **Reading and Writing CSV**\n"
      ]
    },
    {
      "cell_type": "code",
      "metadata": {
        "id": "UqY8_V0CHHTf",
        "colab_type": "code",
        "outputId": "65523ce0-6afa-4d95-86d8-a29d8aee27af",
        "colab": {
          "base_uri": "https://localhost:8080/",
          "height": 122
        }
      },
      "source": [
        "#To load files from drive into colab [shortest way --- medium in pocket bonus way]\n",
        "from google.colab import drive\n",
        "drive.mount('/content/drive')"
      ],
      "execution_count": 0,
      "outputs": [
        {
          "output_type": "stream",
          "text": [
            "Go to this URL in a browser: https://accounts.google.com/o/oauth2/auth?client_id=947318989803-6bn6qk8qdgf4n4g3pfee6491hc0brc4i.apps.googleusercontent.com&redirect_uri=urn%3aietf%3awg%3aoauth%3a2.0%3aoob&response_type=code&scope=email%20https%3a%2f%2fwww.googleapis.com%2fauth%2fdocs.test%20https%3a%2f%2fwww.googleapis.com%2fauth%2fdrive%20https%3a%2f%2fwww.googleapis.com%2fauth%2fdrive.photos.readonly%20https%3a%2f%2fwww.googleapis.com%2fauth%2fpeopleapi.readonly\n",
            "\n",
            "Enter your authorization code:\n",
            "··········\n",
            "Mounted at /content/drive\n"
          ],
          "name": "stdout"
        }
      ]
    },
    {
      "cell_type": "code",
      "metadata": {
        "id": "T1UOHe_QKbVg",
        "colab_type": "code",
        "colab": {}
      },
      "source": [
        "from google.colab import drive\n",
        "drive.mount('/content/drive')"
      ],
      "execution_count": 0,
      "outputs": []
    },
    {
      "cell_type": "code",
      "metadata": {
        "id": "-8PfROxxI54l",
        "colab_type": "code",
        "outputId": "c13e5541-ca33-4402-ae56-22780ef7513c",
        "colab": {
          "base_uri": "https://localhost:8080/",
          "height": 629
        }
      },
      "source": [
        "import csv\n",
        "\n",
        "%precision 2\n",
        "\n",
        "with open('/content/drive/My Drive/data/mpg.csv') as csvfile:\n",
        "  mpg = list(csv.DictReader(csvfile))\n",
        "mpg[:3] #To fetch first three dictionaries in our list\n"
      ],
      "execution_count": 0,
      "outputs": [
        {
          "output_type": "execute_result",
          "data": {
            "text/plain": [
              "[OrderedDict([('', '1'),\n",
              "              ('manufacturer', 'audi'),\n",
              "              ('model', 'a4'),\n",
              "              ('displ', '1.8'),\n",
              "              ('year', '1999'),\n",
              "              ('cyl', '4'),\n",
              "              ('trans', 'auto(l5)'),\n",
              "              ('drv', 'f'),\n",
              "              ('cty', '18'),\n",
              "              ('hwy', '29'),\n",
              "              ('fl', 'p'),\n",
              "              ('class', 'compact')]),\n",
              " OrderedDict([('', '2'),\n",
              "              ('manufacturer', 'audi'),\n",
              "              ('model', 'a4'),\n",
              "              ('displ', '1.8'),\n",
              "              ('year', '1999'),\n",
              "              ('cyl', '4'),\n",
              "              ('trans', 'manual(m5)'),\n",
              "              ('drv', 'f'),\n",
              "              ('cty', '21'),\n",
              "              ('hwy', '29'),\n",
              "              ('fl', 'p'),\n",
              "              ('class', 'compact')]),\n",
              " OrderedDict([('', '3'),\n",
              "              ('manufacturer', 'audi'),\n",
              "              ('model', 'a4'),\n",
              "              ('displ', '2'),\n",
              "              ('year', '2008'),\n",
              "              ('cyl', '4'),\n",
              "              ('trans', 'manual(m6)'),\n",
              "              ('drv', 'f'),\n",
              "              ('cty', '20'),\n",
              "              ('hwy', '31'),\n",
              "              ('fl', 'p'),\n",
              "              ('class', 'compact')])]"
            ]
          },
          "metadata": {
            "tags": []
          },
          "execution_count": 6
        }
      ]
    },
    {
      "cell_type": "code",
      "metadata": {
        "id": "eQSXYKRZMn6v",
        "colab_type": "code",
        "outputId": "9c54f90f-8971-412f-e609-891379ff83ce",
        "colab": {
          "base_uri": "https://localhost:8080/",
          "height": 34
        }
      },
      "source": [
        "len(mpg)"
      ],
      "execution_count": 0,
      "outputs": [
        {
          "output_type": "execute_result",
          "data": {
            "text/plain": [
              "234"
            ]
          },
          "metadata": {
            "tags": []
          },
          "execution_count": 7
        }
      ]
    },
    {
      "cell_type": "code",
      "metadata": {
        "id": "jBX0YEooNI1J",
        "colab_type": "code",
        "outputId": "db264c7e-443a-4b64-ce6c-e3cc9ab329e1",
        "colab": {
          "base_uri": "https://localhost:8080/",
          "height": 34
        }
      },
      "source": [
        "#Get column names of the csv\n",
        "mpg[0].keys()"
      ],
      "execution_count": 0,
      "outputs": [
        {
          "output_type": "execute_result",
          "data": {
            "text/plain": [
              "odict_keys(['', 'manufacturer', 'model', 'displ', 'year', 'cyl', 'trans', 'drv', 'cty', 'hwy', 'fl', 'class'])"
            ]
          },
          "metadata": {
            "tags": []
          },
          "execution_count": 8
        }
      ]
    },
    {
      "cell_type": "code",
      "metadata": {
        "id": "fiEi25CMNZ-n",
        "colab_type": "code",
        "outputId": "0505cc46-0dd1-459d-d453-6a923c01f39e",
        "colab": {
          "base_uri": "https://localhost:8080/",
          "height": 34
        }
      },
      "source": [
        "#Find avg cty fuel economy\n",
        "sum(float(d['cty']) for d in mpg) / len(mpg)"
      ],
      "execution_count": 0,
      "outputs": [
        {
          "output_type": "execute_result",
          "data": {
            "text/plain": [
              "16.86"
            ]
          },
          "metadata": {
            "tags": []
          },
          "execution_count": 9
        }
      ]
    },
    {
      "cell_type": "code",
      "metadata": {
        "id": "60OOE0mHUJVp",
        "colab_type": "code",
        "outputId": "6c1651e0-79ad-4017-a82a-c7ae9883d208",
        "colab": {
          "base_uri": "https://localhost:8080/",
          "height": 34
        }
      },
      "source": [
        "#Finf avg hwy fuel economy\n",
        "sum(float(d['hwy']) for d in mpg) / len(mpg)"
      ],
      "execution_count": 0,
      "outputs": [
        {
          "output_type": "execute_result",
          "data": {
            "text/plain": [
              "23.44"
            ]
          },
          "metadata": {
            "tags": []
          },
          "execution_count": 10
        }
      ]
    },
    {
      "cell_type": "code",
      "metadata": {
        "id": "ESfHopCMUX1m",
        "colab_type": "code",
        "outputId": "0f2f53c7-0d4f-43b0-e6fd-9cc64543f52d",
        "colab": {
          "base_uri": "https://localhost:8080/",
          "height": 34
        }
      },
      "source": [
        "#Get unique no of cylinders the cars has (use set)\n",
        "cylinders = set(d['cyl']for d in mpg)\n",
        "cylinders"
      ],
      "execution_count": 0,
      "outputs": [
        {
          "output_type": "execute_result",
          "data": {
            "text/plain": [
              "{'4', '5', '6', '8'}"
            ]
          },
          "metadata": {
            "tags": []
          },
          "execution_count": 11
        }
      ]
    },
    {
      "cell_type": "code",
      "metadata": {
        "id": "mT4VvFbKVDWa",
        "colab_type": "code",
        "outputId": "4db5daf1-0618-44d8-ee49-704e283b41ca",
        "colab": {
          "base_uri": "https://localhost:8080/",
          "height": 34
        }
      },
      "source": [
        "#Grouping the cars by no of cylinder and finding avg cty mpg for each\n",
        "CtyMpgByCyl = []\n",
        "\n",
        "for c in cylinders:  #iterates over all cylinders\n",
        "  summpg = 0\n",
        "  cyltypecount = 0\n",
        "  for d in mpg: #iterate over all dictionaries\n",
        "    if d['cyl'] == c: #check if cylinder level type matches\n",
        "      summpg += float(d['cty']) #add the cty mpg if cylinder type matches\n",
        "      cyltypecount += 1 #increment the type count\n",
        "  CtyMpgByCyl.append((c, summpg /cyltypecount)) # append the tuple ('cylinder' , 'avg mpg') to the list \n",
        "#CtyMpgByCyl.append(('3',35))\n",
        "CtyMpgByCyl.sort(key = lambda x : x[0])\n",
        "CtyMpgByCyl"
      ],
      "execution_count": 0,
      "outputs": [
        {
          "output_type": "execute_result",
          "data": {
            "text/plain": [
              "[('4', 21.01), ('5', 20.50), ('6', 16.22), ('8', 12.57)]"
            ]
          },
          "metadata": {
            "tags": []
          },
          "execution_count": 12
        }
      ]
    },
    {
      "cell_type": "code",
      "metadata": {
        "id": "wl7niWVHZTv-",
        "colab_type": "code",
        "outputId": "fa39d1c5-3c6a-4a25-d160-2b4112e5e584",
        "colab": {
          "base_uri": "https://localhost:8080/",
          "height": 34
        }
      },
      "source": [
        "key = lambda x:x[0]\n",
        "print(key)"
      ],
      "execution_count": 0,
      "outputs": [
        {
          "output_type": "stream",
          "text": [
            "<function <lambda> at 0x7fbdaea46ae8>\n"
          ],
          "name": "stdout"
        }
      ]
    },
    {
      "cell_type": "code",
      "metadata": {
        "id": "RsNvUwZXaCZp",
        "colab_type": "code",
        "outputId": "1e9a697b-0eb1-4dce-aba4-d5a34a245af3",
        "colab": {
          "base_uri": "https://localhost:8080/",
          "height": 34
        }
      },
      "source": [
        "#trying to understand sort() with key\n",
        "lst = [('candy','5','100'), ('apple','10','200'),('orange','100','50'), ('baby','20','300')]\n",
        "lst.sort(key=lambda x:x[1])\n",
        "print(lst)"
      ],
      "execution_count": 0,
      "outputs": [
        {
          "output_type": "stream",
          "text": [
            "[('apple', '10', '200'), ('orange', '100', '50'), ('baby', '20', '300'), ('candy', '5', '100')]\n"
          ],
          "name": "stdout"
        }
      ]
    },
    {
      "cell_type": "code",
      "metadata": {
        "id": "2riC25XBfILE",
        "colab_type": "code",
        "outputId": "f3a6d5c4-7882-4cb4-c580-bbdcca5d26bb",
        "colab": {
          "base_uri": "https://localhost:8080/",
          "height": 34
        }
      },
      "source": [
        "#get unique values for class types\n",
        "vehicleclass = set(d['class'] for d in mpg)\n",
        "vehicleclass"
      ],
      "execution_count": 0,
      "outputs": [
        {
          "output_type": "execute_result",
          "data": {
            "text/plain": [
              "{'2seater', 'compact', 'midsize', 'minivan', 'pickup', 'subcompact', 'suv'}"
            ]
          },
          "metadata": {
            "tags": []
          },
          "execution_count": 18
        }
      ]
    },
    {
      "cell_type": "code",
      "metadata": {
        "id": "jiTbKVN7qEuP",
        "colab_type": "code",
        "outputId": "a27ee331-db54-4d8c-dafb-dce6488e4e96",
        "colab": {
          "base_uri": "https://localhost:8080/",
          "height": 251
        }
      },
      "source": [
        "#Finding avg hwy mpg for each class of vehicle\n",
        "\n",
        "HwyMpgClass = []\n",
        "\n",
        "for t in vehicleclass:  #to iterate over all the vehicle class\n",
        "  summpg = 0\n",
        "  vclasscount = 0\n",
        "  for d in mpg: #to iterate over all dict in mpg\n",
        "    if d['class'] == t : #check if cylinder amount type matches\n",
        "      summpg += float(d['hwy']) #add the hwy mpg\n",
        "      vclasscount += 1 #increment the count\n",
        "  HwyMpgClass.append((t, summpg / vclasscount)) # append the tuple ('class', 'avg mpg')\n",
        "\n",
        "HwyMpgClass.sort(key = lambda x: x[0])\n",
        "HwyMpgClass"
      ],
      "execution_count": 0,
      "outputs": [
        {
          "output_type": "error",
          "ename": "NameError",
          "evalue": "ignored",
          "traceback": [
            "\u001b[0;31m---------------------------------------------------------------------------\u001b[0m",
            "\u001b[0;31mNameError\u001b[0m                                 Traceback (most recent call last)",
            "\u001b[0;32m<ipython-input-9-aa88eb65ed70>\u001b[0m in \u001b[0;36m<module>\u001b[0;34m()\u001b[0m\n\u001b[1;32m      2\u001b[0m \u001b[0mHwyMpgClass\u001b[0m \u001b[0;34m=\u001b[0m \u001b[0;34m[\u001b[0m\u001b[0;34m]\u001b[0m\u001b[0;34m\u001b[0m\u001b[0;34m\u001b[0m\u001b[0m\n\u001b[1;32m      3\u001b[0m \u001b[0;34m\u001b[0m\u001b[0m\n\u001b[0;32m----> 4\u001b[0;31m \u001b[0;32mfor\u001b[0m \u001b[0mt\u001b[0m \u001b[0;32min\u001b[0m \u001b[0mvehicleclass\u001b[0m\u001b[0;34m:\u001b[0m  \u001b[0;31m#to iterate over all the vehicle class\u001b[0m\u001b[0;34m\u001b[0m\u001b[0;34m\u001b[0m\u001b[0m\n\u001b[0m\u001b[1;32m      5\u001b[0m   \u001b[0msummpg\u001b[0m \u001b[0;34m=\u001b[0m \u001b[0;36m0\u001b[0m\u001b[0;34m\u001b[0m\u001b[0;34m\u001b[0m\u001b[0m\n\u001b[1;32m      6\u001b[0m   \u001b[0mvclasscount\u001b[0m \u001b[0;34m=\u001b[0m \u001b[0;36m0\u001b[0m\u001b[0;34m\u001b[0m\u001b[0;34m\u001b[0m\u001b[0m\n",
            "\u001b[0;31mNameError\u001b[0m: name 'vehicleclass' is not defined"
          ]
        }
      ]
    },
    {
      "cell_type": "markdown",
      "metadata": {
        "id": "MtJEpd5IJT2i",
        "colab_type": "text"
      },
      "source": [
        "# Writing to csv"
      ]
    },
    {
      "cell_type": "code",
      "metadata": {
        "id": "EibdzG2SFvvP",
        "colab_type": "code",
        "colab": {}
      },
      "source": [
        "import csv\n",
        "with open('/content/drive/My Drive/data/write.csv', mode = 'w') as file:\n",
        "    writer = csv.writer(file, delimiter = ',', quotechar ='\"', quoting = csv.QUOTE_MINIMAL)\n",
        "    writer.writerow(['SNo', 'Name'])\n",
        "    writer.writerow(['1','Saranya']) "
      ],
      "execution_count": 0,
      "outputs": []
    },
    {
      "cell_type": "markdown",
      "metadata": {
        "id": "x8OTMYUmDe2f",
        "colab_type": "text"
      },
      "source": [
        "# **Date and Time**"
      ]
    },
    {
      "cell_type": "code",
      "metadata": {
        "id": "a16e3KoBDniK",
        "colab_type": "code",
        "colab": {}
      },
      "source": [
        "import datetime as dt\n",
        "import time as tm"
      ],
      "execution_count": 0,
      "outputs": []
    },
    {
      "cell_type": "code",
      "metadata": {
        "id": "wy3AOn-vDvJB",
        "colab_type": "code",
        "outputId": "b108ccf7-3266-4327-c32b-926eccc9fa81",
        "colab": {
          "base_uri": "https://localhost:8080/",
          "height": 34
        }
      },
      "source": [
        "tm.time() # returns current time in sec since Epoch (Jan 1st, 1970)"
      ],
      "execution_count": 0,
      "outputs": [
        {
          "output_type": "execute_result",
          "data": {
            "text/plain": [
              "1578619964.0719013"
            ]
          },
          "metadata": {
            "tags": []
          },
          "execution_count": 3
        }
      ]
    },
    {
      "cell_type": "code",
      "metadata": {
        "id": "xQutcVfnFFJT",
        "colab_type": "code",
        "outputId": "ab1aeff3-a54e-416a-e549-0ccf84a0b6b9",
        "colab": {
          "base_uri": "https://localhost:8080/",
          "height": 34
        }
      },
      "source": [
        "#converting timestamp to datetime\n",
        "dtnow = dt.datetime.fromtimestamp(tm.time())\n",
        "dtnow\n",
        "print(dtnow)"
      ],
      "execution_count": 0,
      "outputs": [
        {
          "output_type": "stream",
          "text": [
            "2020-01-10 02:02:06.703167\n"
          ],
          "name": "stdout"
        }
      ]
    },
    {
      "cell_type": "code",
      "metadata": {
        "id": "AVu8LMidL_lI",
        "colab_type": "code",
        "outputId": "ea2c783a-625b-41fb-8ae3-124d0a478975",
        "colab": {
          "base_uri": "https://localhost:8080/",
          "height": 34
        }
      },
      "source": [
        " # datetime attributes:\n",
        " dtnow.year,dtnow.month,dtnow.day,dtnow.hour,dtnow.minute,dtnow.second"
      ],
      "execution_count": 0,
      "outputs": [
        {
          "output_type": "execute_result",
          "data": {
            "text/plain": [
              "(2020, 1, 10, 2, 2, 6)"
            ]
          },
          "metadata": {
            "tags": []
          },
          "execution_count": 16
        }
      ]
    },
    {
      "cell_type": "code",
      "metadata": {
        "id": "BqDp4fq1NIL4",
        "colab_type": "code",
        "outputId": "66d39e3e-d393-43c8-9678-e270d6a52b4f",
        "colab": {
          "base_uri": "https://localhost:8080/",
          "height": 34
        }
      },
      "source": [
        "# TImedelta : duration expressing d/w b/w two dates\n",
        "delta = dt.timedelta(days = 100)\n",
        "print(delta)"
      ],
      "execution_count": 0,
      "outputs": [
        {
          "output_type": "stream",
          "text": [
            "100 days, 0:00:00\n"
          ],
          "name": "stdout"
        }
      ]
    },
    {
      "cell_type": "code",
      "metadata": {
        "id": "zZgM1LA5Q9Ea",
        "colab_type": "code",
        "outputId": "823b06e4-4a50-4dbc-e3c7-2f5ceef07f03",
        "colab": {
          "base_uri": "https://localhost:8080/",
          "height": 34
        }
      },
      "source": [
        "today = dt.date.today() #returns the current local date\n",
        "print(today)"
      ],
      "execution_count": 0,
      "outputs": [
        {
          "output_type": "stream",
          "text": [
            "2020-01-10\n"
          ],
          "name": "stdout"
        }
      ]
    },
    {
      "cell_type": "code",
      "metadata": {
        "id": "kFZtand2RVp7",
        "colab_type": "code",
        "outputId": "844c6e46-0038-45d2-99ba-05aed22962cf",
        "colab": {
          "base_uri": "https://localhost:8080/",
          "height": 34
        }
      },
      "source": [
        "print(today - delta) #the date 100 days ago"
      ],
      "execution_count": 0,
      "outputs": [
        {
          "output_type": "stream",
          "text": [
            "2019-10-02\n"
          ],
          "name": "stdout"
        }
      ]
    },
    {
      "cell_type": "code",
      "metadata": {
        "id": "eg8hmKKlRh5A",
        "colab_type": "code",
        "outputId": "9c3d55d5-70d0-4a2c-d694-5972909a5595",
        "colab": {
          "base_uri": "https://localhost:8080/",
          "height": 34
        }
      },
      "source": [
        "print(today > today - delta) #compare dates"
      ],
      "execution_count": 0,
      "outputs": [
        {
          "output_type": "stream",
          "text": [
            "True\n"
          ],
          "name": "stdout"
        }
      ]
    },
    {
      "cell_type": "code",
      "metadata": {
        "id": "mCOL2OLkRpts",
        "colab_type": "code",
        "outputId": "d956ff0e-3a6a-4748-be9f-787ac4cf4142",
        "colab": {
          "base_uri": "https://localhost:8080/",
          "height": 34
        }
      },
      "source": [
        "yeardelta = dt.timedelta(6*365* 2)\n",
        "print(yeardelta)"
      ],
      "execution_count": 0,
      "outputs": [
        {
          "output_type": "stream",
          "text": [
            "4380 days, 0:00:00\n"
          ],
          "name": "stdout"
        }
      ]
    },
    {
      "cell_type": "code",
      "metadata": {
        "id": "WswSnqP2SIb0",
        "colab_type": "code",
        "outputId": "e4c4ffa4-b9d3-46b4-8225-44372642aae4",
        "colab": {
          "base_uri": "https://localhost:8080/",
          "height": 68
        }
      },
      "source": [
        "print(dt.timedelta.max)\n",
        "print(dt.timedelta.min)\n",
        "print(dt.timedelta.resolution)"
      ],
      "execution_count": 0,
      "outputs": [
        {
          "output_type": "stream",
          "text": [
            "999999999 days, 23:59:59.999999\n",
            "-999999999 days, 0:00:00\n",
            "0:00:00.000001\n"
          ],
          "name": "stdout"
        }
      ]
    },
    {
      "cell_type": "code",
      "metadata": {
        "id": "72IFNFPmeY0u",
        "colab_type": "code",
        "outputId": "85cb8577-4b64-46c7-f09b-124e9eaea042",
        "colab": {
          "base_uri": "https://localhost:8080/",
          "height": 34
        }
      },
      "source": [
        "print(dt.timedelta(days = 365).total_seconds())"
      ],
      "execution_count": 0,
      "outputs": [
        {
          "output_type": "stream",
          "text": [
            "31536000.0\n"
          ],
          "name": "stdout"
        }
      ]
    },
    {
      "cell_type": "code",
      "metadata": {
        "id": "rzQTdM61fYeX",
        "colab_type": "code",
        "colab": {}
      },
      "source": [
        ""
      ],
      "execution_count": 0,
      "outputs": []
    }
  ]
}