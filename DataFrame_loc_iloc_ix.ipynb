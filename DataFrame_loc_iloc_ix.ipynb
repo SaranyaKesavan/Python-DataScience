{
  "nbformat": 4,
  "nbformat_minor": 0,
  "metadata": {
    "colab": {
      "name": "DataFrame-loc-iloc-ix.ipynb",
      "provenance": [],
      "authorship_tag": "ABX9TyN6OBDKJ4883olkkkWnE63z",
      "include_colab_link": true
    },
    "kernelspec": {
      "name": "python3",
      "display_name": "Python 3"
    }
  },
  "cells": [
    {
      "cell_type": "markdown",
      "metadata": {
        "id": "view-in-github",
        "colab_type": "text"
      },
      "source": [
        "<a href=\"https://colab.research.google.com/github/SaranyaKesavan/Python-DataScience/blob/master/DataFrame_loc_iloc_ix.ipynb\" target=\"_parent\"><img src=\"https://colab.research.google.com/assets/colab-badge.svg\" alt=\"Open In Colab\"/></a>"
      ]
    },
    {
      "cell_type": "code",
      "metadata": {
        "id": "oL1e-hLRjm9E",
        "colab_type": "code",
        "colab": {}
      },
      "source": [
        "import pandas as pd"
      ],
      "execution_count": 0,
      "outputs": []
    },
    {
      "cell_type": "code",
      "metadata": {
        "id": "9vUfKeFbkAsG",
        "colab_type": "code",
        "colab": {}
      },
      "source": [
        "ufo = pd.read_csv(\"http://bit.ly/uforeports\")"
      ],
      "execution_count": 0,
      "outputs": []
    },
    {
      "cell_type": "code",
      "metadata": {
        "id": "72S1qto6kQSz",
        "colab_type": "code",
        "outputId": "50583298-f839-45cc-a8db-76181b2c9520",
        "colab": {
          "base_uri": "https://localhost:8080/",
          "height": 204
        }
      },
      "source": [
        "ufo.head()"
      ],
      "execution_count": 3,
      "outputs": [
        {
          "output_type": "execute_result",
          "data": {
            "text/html": [
              "<div>\n",
              "<style scoped>\n",
              "    .dataframe tbody tr th:only-of-type {\n",
              "        vertical-align: middle;\n",
              "    }\n",
              "\n",
              "    .dataframe tbody tr th {\n",
              "        vertical-align: top;\n",
              "    }\n",
              "\n",
              "    .dataframe thead th {\n",
              "        text-align: right;\n",
              "    }\n",
              "</style>\n",
              "<table border=\"1\" class=\"dataframe\">\n",
              "  <thead>\n",
              "    <tr style=\"text-align: right;\">\n",
              "      <th></th>\n",
              "      <th>City</th>\n",
              "      <th>Colors Reported</th>\n",
              "      <th>Shape Reported</th>\n",
              "      <th>State</th>\n",
              "      <th>Time</th>\n",
              "    </tr>\n",
              "  </thead>\n",
              "  <tbody>\n",
              "    <tr>\n",
              "      <th>0</th>\n",
              "      <td>Ithaca</td>\n",
              "      <td>NaN</td>\n",
              "      <td>TRIANGLE</td>\n",
              "      <td>NY</td>\n",
              "      <td>6/1/1930 22:00</td>\n",
              "    </tr>\n",
              "    <tr>\n",
              "      <th>1</th>\n",
              "      <td>Willingboro</td>\n",
              "      <td>NaN</td>\n",
              "      <td>OTHER</td>\n",
              "      <td>NJ</td>\n",
              "      <td>6/30/1930 20:00</td>\n",
              "    </tr>\n",
              "    <tr>\n",
              "      <th>2</th>\n",
              "      <td>Holyoke</td>\n",
              "      <td>NaN</td>\n",
              "      <td>OVAL</td>\n",
              "      <td>CO</td>\n",
              "      <td>2/15/1931 14:00</td>\n",
              "    </tr>\n",
              "    <tr>\n",
              "      <th>3</th>\n",
              "      <td>Abilene</td>\n",
              "      <td>NaN</td>\n",
              "      <td>DISK</td>\n",
              "      <td>KS</td>\n",
              "      <td>6/1/1931 13:00</td>\n",
              "    </tr>\n",
              "    <tr>\n",
              "      <th>4</th>\n",
              "      <td>New York Worlds Fair</td>\n",
              "      <td>NaN</td>\n",
              "      <td>LIGHT</td>\n",
              "      <td>NY</td>\n",
              "      <td>4/18/1933 19:00</td>\n",
              "    </tr>\n",
              "  </tbody>\n",
              "</table>\n",
              "</div>"
            ],
            "text/plain": [
              "                   City Colors Reported Shape Reported State             Time\n",
              "0                Ithaca             NaN       TRIANGLE    NY   6/1/1930 22:00\n",
              "1           Willingboro             NaN          OTHER    NJ  6/30/1930 20:00\n",
              "2               Holyoke             NaN           OVAL    CO  2/15/1931 14:00\n",
              "3               Abilene             NaN           DISK    KS   6/1/1931 13:00\n",
              "4  New York Worlds Fair             NaN          LIGHT    NY  4/18/1933 19:00"
            ]
          },
          "metadata": {
            "tags": []
          },
          "execution_count": 3
        }
      ]
    },
    {
      "cell_type": "markdown",
      "metadata": {
        "id": "aIb5fvR6rGCM",
        "colab_type": "text"
      },
      "source": [
        "#### **loc:**\n",
        "###### Row selection"
      ]
    },
    {
      "cell_type": "code",
      "metadata": {
        "id": "pP5pDM1YkW47",
        "colab_type": "code",
        "outputId": "4bbfd0a2-4f72-4b44-ae21-3673ad2da083",
        "colab": {
          "base_uri": "https://localhost:8080/",
          "height": 119
        }
      },
      "source": [
        "# Syntax df.loc[row, col]\n",
        "#loc-->> for selecting data by label index fr row label for cols\n",
        "# ':' -->> means all\n",
        "\n",
        "# select all cols of row 0\n",
        "ufo.loc[0, : ]"
      ],
      "execution_count": 4,
      "outputs": [
        {
          "output_type": "execute_result",
          "data": {
            "text/plain": [
              "City                       Ithaca\n",
              "Colors Reported               NaN\n",
              "Shape Reported           TRIANGLE\n",
              "State                          NY\n",
              "Time               6/1/1930 22:00\n",
              "Name: 0, dtype: object"
            ]
          },
          "metadata": {
            "tags": []
          },
          "execution_count": 4
        }
      ]
    },
    {
      "cell_type": "code",
      "metadata": {
        "id": "iaP3KYRTmry2",
        "colab_type": "code",
        "outputId": "3c50558e-9c4d-4b11-e8c4-9e7ea5c15c34",
        "colab": {
          "base_uri": "https://localhost:8080/",
          "height": 142
        }
      },
      "source": [
        "# select all cols of  rows 0,1,2 \n",
        "# passing rows to be selected as a list\n",
        "ufo.loc[[0,1,2] , :]"
      ],
      "execution_count": 5,
      "outputs": [
        {
          "output_type": "execute_result",
          "data": {
            "text/html": [
              "<div>\n",
              "<style scoped>\n",
              "    .dataframe tbody tr th:only-of-type {\n",
              "        vertical-align: middle;\n",
              "    }\n",
              "\n",
              "    .dataframe tbody tr th {\n",
              "        vertical-align: top;\n",
              "    }\n",
              "\n",
              "    .dataframe thead th {\n",
              "        text-align: right;\n",
              "    }\n",
              "</style>\n",
              "<table border=\"1\" class=\"dataframe\">\n",
              "  <thead>\n",
              "    <tr style=\"text-align: right;\">\n",
              "      <th></th>\n",
              "      <th>City</th>\n",
              "      <th>Colors Reported</th>\n",
              "      <th>Shape Reported</th>\n",
              "      <th>State</th>\n",
              "      <th>Time</th>\n",
              "    </tr>\n",
              "  </thead>\n",
              "  <tbody>\n",
              "    <tr>\n",
              "      <th>0</th>\n",
              "      <td>Ithaca</td>\n",
              "      <td>NaN</td>\n",
              "      <td>TRIANGLE</td>\n",
              "      <td>NY</td>\n",
              "      <td>6/1/1930 22:00</td>\n",
              "    </tr>\n",
              "    <tr>\n",
              "      <th>1</th>\n",
              "      <td>Willingboro</td>\n",
              "      <td>NaN</td>\n",
              "      <td>OTHER</td>\n",
              "      <td>NJ</td>\n",
              "      <td>6/30/1930 20:00</td>\n",
              "    </tr>\n",
              "    <tr>\n",
              "      <th>2</th>\n",
              "      <td>Holyoke</td>\n",
              "      <td>NaN</td>\n",
              "      <td>OVAL</td>\n",
              "      <td>CO</td>\n",
              "      <td>2/15/1931 14:00</td>\n",
              "    </tr>\n",
              "  </tbody>\n",
              "</table>\n",
              "</div>"
            ],
            "text/plain": [
              "          City Colors Reported Shape Reported State             Time\n",
              "0       Ithaca             NaN       TRIANGLE    NY   6/1/1930 22:00\n",
              "1  Willingboro             NaN          OTHER    NJ  6/30/1930 20:00\n",
              "2      Holyoke             NaN           OVAL    CO  2/15/1931 14:00"
            ]
          },
          "metadata": {
            "tags": []
          },
          "execution_count": 5
        }
      ]
    },
    {
      "cell_type": "code",
      "metadata": {
        "id": "jaE294Mdm-g8",
        "colab_type": "code",
        "outputId": "65474752-1c14-45ed-bbd7-32aa35bf7261",
        "colab": {
          "base_uri": "https://localhost:8080/",
          "height": 142
        }
      },
      "source": [
        "#ufo.loc[[0,1,2] , :]\n",
        "#use slicing to select block of rows or cols insted of above list\n",
        "# in loc slicing with index includes both the values i.e, here 0,1,2\n",
        "ufo.loc[0:2 , :] # gives same output as above line"
      ],
      "execution_count": 6,
      "outputs": [
        {
          "output_type": "execute_result",
          "data": {
            "text/html": [
              "<div>\n",
              "<style scoped>\n",
              "    .dataframe tbody tr th:only-of-type {\n",
              "        vertical-align: middle;\n",
              "    }\n",
              "\n",
              "    .dataframe tbody tr th {\n",
              "        vertical-align: top;\n",
              "    }\n",
              "\n",
              "    .dataframe thead th {\n",
              "        text-align: right;\n",
              "    }\n",
              "</style>\n",
              "<table border=\"1\" class=\"dataframe\">\n",
              "  <thead>\n",
              "    <tr style=\"text-align: right;\">\n",
              "      <th></th>\n",
              "      <th>City</th>\n",
              "      <th>Colors Reported</th>\n",
              "      <th>Shape Reported</th>\n",
              "      <th>State</th>\n",
              "      <th>Time</th>\n",
              "    </tr>\n",
              "  </thead>\n",
              "  <tbody>\n",
              "    <tr>\n",
              "      <th>0</th>\n",
              "      <td>Ithaca</td>\n",
              "      <td>NaN</td>\n",
              "      <td>TRIANGLE</td>\n",
              "      <td>NY</td>\n",
              "      <td>6/1/1930 22:00</td>\n",
              "    </tr>\n",
              "    <tr>\n",
              "      <th>1</th>\n",
              "      <td>Willingboro</td>\n",
              "      <td>NaN</td>\n",
              "      <td>OTHER</td>\n",
              "      <td>NJ</td>\n",
              "      <td>6/30/1930 20:00</td>\n",
              "    </tr>\n",
              "    <tr>\n",
              "      <th>2</th>\n",
              "      <td>Holyoke</td>\n",
              "      <td>NaN</td>\n",
              "      <td>OVAL</td>\n",
              "      <td>CO</td>\n",
              "      <td>2/15/1931 14:00</td>\n",
              "    </tr>\n",
              "  </tbody>\n",
              "</table>\n",
              "</div>"
            ],
            "text/plain": [
              "          City Colors Reported Shape Reported State             Time\n",
              "0       Ithaca             NaN       TRIANGLE    NY   6/1/1930 22:00\n",
              "1  Willingboro             NaN          OTHER    NJ  6/30/1930 20:00\n",
              "2      Holyoke             NaN           OVAL    CO  2/15/1931 14:00"
            ]
          },
          "metadata": {
            "tags": []
          },
          "execution_count": 6
        }
      ]
    },
    {
      "cell_type": "code",
      "metadata": {
        "id": "bL1f00hynkDQ",
        "colab_type": "code",
        "outputId": "b4e91b43-67e2-4ae0-e14f-17d5fbe3a03b",
        "colab": {
          "base_uri": "https://localhost:8080/",
          "height": 34
        }
      },
      "source": [
        "len(ufo)"
      ],
      "execution_count": 7,
      "outputs": [
        {
          "output_type": "execute_result",
          "data": {
            "text/plain": [
              "18241"
            ]
          },
          "metadata": {
            "tags": []
          },
          "execution_count": 7
        }
      ]
    },
    {
      "cell_type": "markdown",
      "metadata": {
        "id": "qc9tEEei0eQM",
        "colab_type": "text"
      },
      "source": [
        "### NOTE:\n",
        "###### when slicing with loc[ ] both the values are included"
      ]
    },
    {
      "cell_type": "code",
      "metadata": {
        "id": "IdyAuJ6doAwe",
        "colab_type": "code",
        "outputId": "916d993a-1c82-4105-aeaa-5bc0381fe39c",
        "colab": {
          "base_uri": "https://localhost:8080/",
          "height": 142
        }
      },
      "source": [
        "#df.loc[0:2] --->> includes specified rows and all the cols by default if cols not specified\n",
        "ufo.loc[0:2]"
      ],
      "execution_count": 8,
      "outputs": [
        {
          "output_type": "execute_result",
          "data": {
            "text/html": [
              "<div>\n",
              "<style scoped>\n",
              "    .dataframe tbody tr th:only-of-type {\n",
              "        vertical-align: middle;\n",
              "    }\n",
              "\n",
              "    .dataframe tbody tr th {\n",
              "        vertical-align: top;\n",
              "    }\n",
              "\n",
              "    .dataframe thead th {\n",
              "        text-align: right;\n",
              "    }\n",
              "</style>\n",
              "<table border=\"1\" class=\"dataframe\">\n",
              "  <thead>\n",
              "    <tr style=\"text-align: right;\">\n",
              "      <th></th>\n",
              "      <th>City</th>\n",
              "      <th>Colors Reported</th>\n",
              "      <th>Shape Reported</th>\n",
              "      <th>State</th>\n",
              "      <th>Time</th>\n",
              "    </tr>\n",
              "  </thead>\n",
              "  <tbody>\n",
              "    <tr>\n",
              "      <th>0</th>\n",
              "      <td>Ithaca</td>\n",
              "      <td>NaN</td>\n",
              "      <td>TRIANGLE</td>\n",
              "      <td>NY</td>\n",
              "      <td>6/1/1930 22:00</td>\n",
              "    </tr>\n",
              "    <tr>\n",
              "      <th>1</th>\n",
              "      <td>Willingboro</td>\n",
              "      <td>NaN</td>\n",
              "      <td>OTHER</td>\n",
              "      <td>NJ</td>\n",
              "      <td>6/30/1930 20:00</td>\n",
              "    </tr>\n",
              "    <tr>\n",
              "      <th>2</th>\n",
              "      <td>Holyoke</td>\n",
              "      <td>NaN</td>\n",
              "      <td>OVAL</td>\n",
              "      <td>CO</td>\n",
              "      <td>2/15/1931 14:00</td>\n",
              "    </tr>\n",
              "  </tbody>\n",
              "</table>\n",
              "</div>"
            ],
            "text/plain": [
              "          City Colors Reported Shape Reported State             Time\n",
              "0       Ithaca             NaN       TRIANGLE    NY   6/1/1930 22:00\n",
              "1  Willingboro             NaN          OTHER    NJ  6/30/1930 20:00\n",
              "2      Holyoke             NaN           OVAL    CO  2/15/1931 14:00"
            ]
          },
          "metadata": {
            "tags": []
          },
          "execution_count": 8
        }
      ]
    },
    {
      "cell_type": "markdown",
      "metadata": {
        "id": "ZlTwXZ-erNv0",
        "colab_type": "text"
      },
      "source": [
        "###### Column Selection"
      ]
    },
    {
      "cell_type": "code",
      "metadata": {
        "id": "L0aUVy08qwg_",
        "colab_type": "code",
        "outputId": "5358d13e-e9f2-41e4-8377-fcc3bbb574da",
        "colab": {
          "base_uri": "https://localhost:8080/",
          "height": 221
        }
      },
      "source": [
        "# select all rows for col 'City'\n",
        "ufo.loc[:,'City']"
      ],
      "execution_count": 9,
      "outputs": [
        {
          "output_type": "execute_result",
          "data": {
            "text/plain": [
              "0                      Ithaca\n",
              "1                 Willingboro\n",
              "2                     Holyoke\n",
              "3                     Abilene\n",
              "4        New York Worlds Fair\n",
              "                 ...         \n",
              "18236              Grant Park\n",
              "18237             Spirit Lake\n",
              "18238             Eagle River\n",
              "18239             Eagle River\n",
              "18240                    Ybor\n",
              "Name: City, Length: 18241, dtype: object"
            ]
          },
          "metadata": {
            "tags": []
          },
          "execution_count": 9
        }
      ]
    },
    {
      "cell_type": "code",
      "metadata": {
        "id": "kvql2tAMrY-R",
        "colab_type": "code",
        "outputId": "0b48a3f1-4ca8-4d01-bb9b-ca31b30736dd",
        "colab": {
          "base_uri": "https://localhost:8080/",
          "height": 419
        }
      },
      "source": [
        "# To select multiple cols\n",
        "# select all rows of cols 'City' and 'State'\n",
        "# pass multiple cols as a list\n",
        "ufo.loc[:,['City','State']]"
      ],
      "execution_count": 10,
      "outputs": [
        {
          "output_type": "execute_result",
          "data": {
            "text/html": [
              "<div>\n",
              "<style scoped>\n",
              "    .dataframe tbody tr th:only-of-type {\n",
              "        vertical-align: middle;\n",
              "    }\n",
              "\n",
              "    .dataframe tbody tr th {\n",
              "        vertical-align: top;\n",
              "    }\n",
              "\n",
              "    .dataframe thead th {\n",
              "        text-align: right;\n",
              "    }\n",
              "</style>\n",
              "<table border=\"1\" class=\"dataframe\">\n",
              "  <thead>\n",
              "    <tr style=\"text-align: right;\">\n",
              "      <th></th>\n",
              "      <th>City</th>\n",
              "      <th>State</th>\n",
              "    </tr>\n",
              "  </thead>\n",
              "  <tbody>\n",
              "    <tr>\n",
              "      <th>0</th>\n",
              "      <td>Ithaca</td>\n",
              "      <td>NY</td>\n",
              "    </tr>\n",
              "    <tr>\n",
              "      <th>1</th>\n",
              "      <td>Willingboro</td>\n",
              "      <td>NJ</td>\n",
              "    </tr>\n",
              "    <tr>\n",
              "      <th>2</th>\n",
              "      <td>Holyoke</td>\n",
              "      <td>CO</td>\n",
              "    </tr>\n",
              "    <tr>\n",
              "      <th>3</th>\n",
              "      <td>Abilene</td>\n",
              "      <td>KS</td>\n",
              "    </tr>\n",
              "    <tr>\n",
              "      <th>4</th>\n",
              "      <td>New York Worlds Fair</td>\n",
              "      <td>NY</td>\n",
              "    </tr>\n",
              "    <tr>\n",
              "      <th>...</th>\n",
              "      <td>...</td>\n",
              "      <td>...</td>\n",
              "    </tr>\n",
              "    <tr>\n",
              "      <th>18236</th>\n",
              "      <td>Grant Park</td>\n",
              "      <td>IL</td>\n",
              "    </tr>\n",
              "    <tr>\n",
              "      <th>18237</th>\n",
              "      <td>Spirit Lake</td>\n",
              "      <td>IA</td>\n",
              "    </tr>\n",
              "    <tr>\n",
              "      <th>18238</th>\n",
              "      <td>Eagle River</td>\n",
              "      <td>WI</td>\n",
              "    </tr>\n",
              "    <tr>\n",
              "      <th>18239</th>\n",
              "      <td>Eagle River</td>\n",
              "      <td>WI</td>\n",
              "    </tr>\n",
              "    <tr>\n",
              "      <th>18240</th>\n",
              "      <td>Ybor</td>\n",
              "      <td>FL</td>\n",
              "    </tr>\n",
              "  </tbody>\n",
              "</table>\n",
              "<p>18241 rows × 2 columns</p>\n",
              "</div>"
            ],
            "text/plain": [
              "                       City State\n",
              "0                    Ithaca    NY\n",
              "1               Willingboro    NJ\n",
              "2                   Holyoke    CO\n",
              "3                   Abilene    KS\n",
              "4      New York Worlds Fair    NY\n",
              "...                     ...   ...\n",
              "18236            Grant Park    IL\n",
              "18237           Spirit Lake    IA\n",
              "18238           Eagle River    WI\n",
              "18239           Eagle River    WI\n",
              "18240                  Ybor    FL\n",
              "\n",
              "[18241 rows x 2 columns]"
            ]
          },
          "metadata": {
            "tags": []
          },
          "execution_count": 10
        }
      ]
    },
    {
      "cell_type": "code",
      "metadata": {
        "id": "qjLFFxpYr9VJ",
        "colab_type": "code",
        "outputId": "9dd6768a-3e7e-4a8d-94ea-27b68ec6ea52",
        "colab": {
          "base_uri": "https://localhost:8080/",
          "height": 419
        }
      },
      "source": [
        "'''Similar to selecting block of rows \n",
        "   to select block of cols\n",
        "   do samething with label names\n",
        "'''\n",
        "#Say to select all rows from col City through State\n",
        "ufo.loc[:, 'City':'State']"
      ],
      "execution_count": 11,
      "outputs": [
        {
          "output_type": "execute_result",
          "data": {
            "text/html": [
              "<div>\n",
              "<style scoped>\n",
              "    .dataframe tbody tr th:only-of-type {\n",
              "        vertical-align: middle;\n",
              "    }\n",
              "\n",
              "    .dataframe tbody tr th {\n",
              "        vertical-align: top;\n",
              "    }\n",
              "\n",
              "    .dataframe thead th {\n",
              "        text-align: right;\n",
              "    }\n",
              "</style>\n",
              "<table border=\"1\" class=\"dataframe\">\n",
              "  <thead>\n",
              "    <tr style=\"text-align: right;\">\n",
              "      <th></th>\n",
              "      <th>City</th>\n",
              "      <th>Colors Reported</th>\n",
              "      <th>Shape Reported</th>\n",
              "      <th>State</th>\n",
              "    </tr>\n",
              "  </thead>\n",
              "  <tbody>\n",
              "    <tr>\n",
              "      <th>0</th>\n",
              "      <td>Ithaca</td>\n",
              "      <td>NaN</td>\n",
              "      <td>TRIANGLE</td>\n",
              "      <td>NY</td>\n",
              "    </tr>\n",
              "    <tr>\n",
              "      <th>1</th>\n",
              "      <td>Willingboro</td>\n",
              "      <td>NaN</td>\n",
              "      <td>OTHER</td>\n",
              "      <td>NJ</td>\n",
              "    </tr>\n",
              "    <tr>\n",
              "      <th>2</th>\n",
              "      <td>Holyoke</td>\n",
              "      <td>NaN</td>\n",
              "      <td>OVAL</td>\n",
              "      <td>CO</td>\n",
              "    </tr>\n",
              "    <tr>\n",
              "      <th>3</th>\n",
              "      <td>Abilene</td>\n",
              "      <td>NaN</td>\n",
              "      <td>DISK</td>\n",
              "      <td>KS</td>\n",
              "    </tr>\n",
              "    <tr>\n",
              "      <th>4</th>\n",
              "      <td>New York Worlds Fair</td>\n",
              "      <td>NaN</td>\n",
              "      <td>LIGHT</td>\n",
              "      <td>NY</td>\n",
              "    </tr>\n",
              "    <tr>\n",
              "      <th>...</th>\n",
              "      <td>...</td>\n",
              "      <td>...</td>\n",
              "      <td>...</td>\n",
              "      <td>...</td>\n",
              "    </tr>\n",
              "    <tr>\n",
              "      <th>18236</th>\n",
              "      <td>Grant Park</td>\n",
              "      <td>NaN</td>\n",
              "      <td>TRIANGLE</td>\n",
              "      <td>IL</td>\n",
              "    </tr>\n",
              "    <tr>\n",
              "      <th>18237</th>\n",
              "      <td>Spirit Lake</td>\n",
              "      <td>NaN</td>\n",
              "      <td>DISK</td>\n",
              "      <td>IA</td>\n",
              "    </tr>\n",
              "    <tr>\n",
              "      <th>18238</th>\n",
              "      <td>Eagle River</td>\n",
              "      <td>NaN</td>\n",
              "      <td>NaN</td>\n",
              "      <td>WI</td>\n",
              "    </tr>\n",
              "    <tr>\n",
              "      <th>18239</th>\n",
              "      <td>Eagle River</td>\n",
              "      <td>RED</td>\n",
              "      <td>LIGHT</td>\n",
              "      <td>WI</td>\n",
              "    </tr>\n",
              "    <tr>\n",
              "      <th>18240</th>\n",
              "      <td>Ybor</td>\n",
              "      <td>NaN</td>\n",
              "      <td>OVAL</td>\n",
              "      <td>FL</td>\n",
              "    </tr>\n",
              "  </tbody>\n",
              "</table>\n",
              "<p>18241 rows × 4 columns</p>\n",
              "</div>"
            ],
            "text/plain": [
              "                       City Colors Reported Shape Reported State\n",
              "0                    Ithaca             NaN       TRIANGLE    NY\n",
              "1               Willingboro             NaN          OTHER    NJ\n",
              "2                   Holyoke             NaN           OVAL    CO\n",
              "3                   Abilene             NaN           DISK    KS\n",
              "4      New York Worlds Fair             NaN          LIGHT    NY\n",
              "...                     ...             ...            ...   ...\n",
              "18236            Grant Park             NaN       TRIANGLE    IL\n",
              "18237           Spirit Lake             NaN           DISK    IA\n",
              "18238           Eagle River             NaN            NaN    WI\n",
              "18239           Eagle River             RED          LIGHT    WI\n",
              "18240                  Ybor             NaN           OVAL    FL\n",
              "\n",
              "[18241 rows x 4 columns]"
            ]
          },
          "metadata": {
            "tags": []
          },
          "execution_count": 11
        }
      ]
    },
    {
      "cell_type": "code",
      "metadata": {
        "id": "d_W1mVtHst4S",
        "colab_type": "code",
        "outputId": "8b272101-14d9-43a2-9d2e-43f131665265",
        "colab": {
          "base_uri": "https://localhost:8080/",
          "height": 142
        }
      },
      "source": [
        "#Select rows 0 through 2 and cols City through State\n",
        "ufo.loc[0:2 , 'City':'State']"
      ],
      "execution_count": 12,
      "outputs": [
        {
          "output_type": "execute_result",
          "data": {
            "text/html": [
              "<div>\n",
              "<style scoped>\n",
              "    .dataframe tbody tr th:only-of-type {\n",
              "        vertical-align: middle;\n",
              "    }\n",
              "\n",
              "    .dataframe tbody tr th {\n",
              "        vertical-align: top;\n",
              "    }\n",
              "\n",
              "    .dataframe thead th {\n",
              "        text-align: right;\n",
              "    }\n",
              "</style>\n",
              "<table border=\"1\" class=\"dataframe\">\n",
              "  <thead>\n",
              "    <tr style=\"text-align: right;\">\n",
              "      <th></th>\n",
              "      <th>City</th>\n",
              "      <th>Colors Reported</th>\n",
              "      <th>Shape Reported</th>\n",
              "      <th>State</th>\n",
              "    </tr>\n",
              "  </thead>\n",
              "  <tbody>\n",
              "    <tr>\n",
              "      <th>0</th>\n",
              "      <td>Ithaca</td>\n",
              "      <td>NaN</td>\n",
              "      <td>TRIANGLE</td>\n",
              "      <td>NY</td>\n",
              "    </tr>\n",
              "    <tr>\n",
              "      <th>1</th>\n",
              "      <td>Willingboro</td>\n",
              "      <td>NaN</td>\n",
              "      <td>OTHER</td>\n",
              "      <td>NJ</td>\n",
              "    </tr>\n",
              "    <tr>\n",
              "      <th>2</th>\n",
              "      <td>Holyoke</td>\n",
              "      <td>NaN</td>\n",
              "      <td>OVAL</td>\n",
              "      <td>CO</td>\n",
              "    </tr>\n",
              "  </tbody>\n",
              "</table>\n",
              "</div>"
            ],
            "text/plain": [
              "          City Colors Reported Shape Reported State\n",
              "0       Ithaca             NaN       TRIANGLE    NY\n",
              "1  Willingboro             NaN          OTHER    NJ\n",
              "2      Holyoke             NaN           OVAL    CO"
            ]
          },
          "metadata": {
            "tags": []
          },
          "execution_count": 12
        }
      ]
    },
    {
      "cell_type": "code",
      "metadata": {
        "id": "hcLMSSg2kyXw",
        "colab_type": "code",
        "outputId": "22cf8a72-0307-45e6-ad69-7b41110402c6",
        "colab": {
          "base_uri": "https://localhost:8080/",
          "height": 142
        }
      },
      "source": [
        "#another way to get the above result using head & drop\n",
        "ufo.head(3).drop('Time',axis=1)"
      ],
      "execution_count": 13,
      "outputs": [
        {
          "output_type": "execute_result",
          "data": {
            "text/html": [
              "<div>\n",
              "<style scoped>\n",
              "    .dataframe tbody tr th:only-of-type {\n",
              "        vertical-align: middle;\n",
              "    }\n",
              "\n",
              "    .dataframe tbody tr th {\n",
              "        vertical-align: top;\n",
              "    }\n",
              "\n",
              "    .dataframe thead th {\n",
              "        text-align: right;\n",
              "    }\n",
              "</style>\n",
              "<table border=\"1\" class=\"dataframe\">\n",
              "  <thead>\n",
              "    <tr style=\"text-align: right;\">\n",
              "      <th></th>\n",
              "      <th>City</th>\n",
              "      <th>Colors Reported</th>\n",
              "      <th>Shape Reported</th>\n",
              "      <th>State</th>\n",
              "    </tr>\n",
              "  </thead>\n",
              "  <tbody>\n",
              "    <tr>\n",
              "      <th>0</th>\n",
              "      <td>Ithaca</td>\n",
              "      <td>NaN</td>\n",
              "      <td>TRIANGLE</td>\n",
              "      <td>NY</td>\n",
              "    </tr>\n",
              "    <tr>\n",
              "      <th>1</th>\n",
              "      <td>Willingboro</td>\n",
              "      <td>NaN</td>\n",
              "      <td>OTHER</td>\n",
              "      <td>NJ</td>\n",
              "    </tr>\n",
              "    <tr>\n",
              "      <th>2</th>\n",
              "      <td>Holyoke</td>\n",
              "      <td>NaN</td>\n",
              "      <td>OVAL</td>\n",
              "      <td>CO</td>\n",
              "    </tr>\n",
              "  </tbody>\n",
              "</table>\n",
              "</div>"
            ],
            "text/plain": [
              "          City Colors Reported Shape Reported State\n",
              "0       Ithaca             NaN       TRIANGLE    NY\n",
              "1  Willingboro             NaN          OTHER    NJ\n",
              "2      Holyoke             NaN           OVAL    CO"
            ]
          },
          "metadata": {
            "tags": []
          },
          "execution_count": 13
        }
      ]
    },
    {
      "cell_type": "code",
      "metadata": {
        "id": "Rp5pIEoFlD-s",
        "colab_type": "code",
        "outputId": "6e902597-c548-4852-b01d-1417ea8a0086",
        "colab": {
          "base_uri": "https://localhost:8080/",
          "height": 221
        }
      },
      "source": [
        "ufo.City"
      ],
      "execution_count": 14,
      "outputs": [
        {
          "output_type": "execute_result",
          "data": {
            "text/plain": [
              "0                      Ithaca\n",
              "1                 Willingboro\n",
              "2                     Holyoke\n",
              "3                     Abilene\n",
              "4        New York Worlds Fair\n",
              "                 ...         \n",
              "18236              Grant Park\n",
              "18237             Spirit Lake\n",
              "18238             Eagle River\n",
              "18239             Eagle River\n",
              "18240                    Ybor\n",
              "Name: City, Length: 18241, dtype: object"
            ]
          },
          "metadata": {
            "tags": []
          },
          "execution_count": 14
        }
      ]
    },
    {
      "cell_type": "code",
      "metadata": {
        "id": "KqI3bi-UmCTQ",
        "colab_type": "code",
        "outputId": "d50bf92f-e19c-48d8-f872-6ce1bcdab974",
        "colab": {
          "base_uri": "https://localhost:8080/",
          "height": 221
        }
      },
      "source": [
        "ufo['City']"
      ],
      "execution_count": 15,
      "outputs": [
        {
          "output_type": "execute_result",
          "data": {
            "text/plain": [
              "0                      Ithaca\n",
              "1                 Willingboro\n",
              "2                     Holyoke\n",
              "3                     Abilene\n",
              "4        New York Worlds Fair\n",
              "                 ...         \n",
              "18236              Grant Park\n",
              "18237             Spirit Lake\n",
              "18238             Eagle River\n",
              "18239             Eagle River\n",
              "18240                    Ybor\n",
              "Name: City, Length: 18241, dtype: object"
            ]
          },
          "metadata": {
            "tags": []
          },
          "execution_count": 15
        }
      ]
    },
    {
      "cell_type": "code",
      "metadata": {
        "id": "2WA_KvZVmF6I",
        "colab_type": "code",
        "outputId": "61b9cf53-d904-4397-b7ea-f11b8c1fbfb9",
        "colab": {
          "base_uri": "https://localhost:8080/",
          "height": 452
        }
      },
      "source": [
        "# to select rows where City == Oakland\n",
        "# without using loc\n",
        "ufo[ufo.City == 'Oakland']"
      ],
      "execution_count": 16,
      "outputs": [
        {
          "output_type": "execute_result",
          "data": {
            "text/html": [
              "<div>\n",
              "<style scoped>\n",
              "    .dataframe tbody tr th:only-of-type {\n",
              "        vertical-align: middle;\n",
              "    }\n",
              "\n",
              "    .dataframe tbody tr th {\n",
              "        vertical-align: top;\n",
              "    }\n",
              "\n",
              "    .dataframe thead th {\n",
              "        text-align: right;\n",
              "    }\n",
              "</style>\n",
              "<table border=\"1\" class=\"dataframe\">\n",
              "  <thead>\n",
              "    <tr style=\"text-align: right;\">\n",
              "      <th></th>\n",
              "      <th>City</th>\n",
              "      <th>Colors Reported</th>\n",
              "      <th>Shape Reported</th>\n",
              "      <th>State</th>\n",
              "      <th>Time</th>\n",
              "    </tr>\n",
              "  </thead>\n",
              "  <tbody>\n",
              "    <tr>\n",
              "      <th>1694</th>\n",
              "      <td>Oakland</td>\n",
              "      <td>NaN</td>\n",
              "      <td>CIGAR</td>\n",
              "      <td>CA</td>\n",
              "      <td>7/21/1968 14:00</td>\n",
              "    </tr>\n",
              "    <tr>\n",
              "      <th>2144</th>\n",
              "      <td>Oakland</td>\n",
              "      <td>NaN</td>\n",
              "      <td>DISK</td>\n",
              "      <td>CA</td>\n",
              "      <td>8/19/1971 0:00</td>\n",
              "    </tr>\n",
              "    <tr>\n",
              "      <th>4686</th>\n",
              "      <td>Oakland</td>\n",
              "      <td>NaN</td>\n",
              "      <td>LIGHT</td>\n",
              "      <td>MD</td>\n",
              "      <td>6/1/1982 0:00</td>\n",
              "    </tr>\n",
              "    <tr>\n",
              "      <th>7293</th>\n",
              "      <td>Oakland</td>\n",
              "      <td>NaN</td>\n",
              "      <td>LIGHT</td>\n",
              "      <td>CA</td>\n",
              "      <td>3/28/1994 17:00</td>\n",
              "    </tr>\n",
              "    <tr>\n",
              "      <th>8488</th>\n",
              "      <td>Oakland</td>\n",
              "      <td>NaN</td>\n",
              "      <td>NaN</td>\n",
              "      <td>CA</td>\n",
              "      <td>8/10/1995 21:45</td>\n",
              "    </tr>\n",
              "    <tr>\n",
              "      <th>8768</th>\n",
              "      <td>Oakland</td>\n",
              "      <td>NaN</td>\n",
              "      <td>NaN</td>\n",
              "      <td>CA</td>\n",
              "      <td>10/10/1995 22:40</td>\n",
              "    </tr>\n",
              "    <tr>\n",
              "      <th>10816</th>\n",
              "      <td>Oakland</td>\n",
              "      <td>NaN</td>\n",
              "      <td>LIGHT</td>\n",
              "      <td>OR</td>\n",
              "      <td>10/1/1997 21:30</td>\n",
              "    </tr>\n",
              "    <tr>\n",
              "      <th>10948</th>\n",
              "      <td>Oakland</td>\n",
              "      <td>NaN</td>\n",
              "      <td>DISK</td>\n",
              "      <td>CA</td>\n",
              "      <td>11/14/1997 19:55</td>\n",
              "    </tr>\n",
              "    <tr>\n",
              "      <th>11045</th>\n",
              "      <td>Oakland</td>\n",
              "      <td>NaN</td>\n",
              "      <td>TRIANGLE</td>\n",
              "      <td>CA</td>\n",
              "      <td>12/10/1997 1:30</td>\n",
              "    </tr>\n",
              "    <tr>\n",
              "      <th>12322</th>\n",
              "      <td>Oakland</td>\n",
              "      <td>NaN</td>\n",
              "      <td>FIREBALL</td>\n",
              "      <td>CA</td>\n",
              "      <td>10/9/1998 19:40</td>\n",
              "    </tr>\n",
              "    <tr>\n",
              "      <th>12941</th>\n",
              "      <td>Oakland</td>\n",
              "      <td>NaN</td>\n",
              "      <td>CYLINDER</td>\n",
              "      <td>CA</td>\n",
              "      <td>1/23/1999 21:30</td>\n",
              "    </tr>\n",
              "    <tr>\n",
              "      <th>16803</th>\n",
              "      <td>Oakland</td>\n",
              "      <td>NaN</td>\n",
              "      <td>TRIANGLE</td>\n",
              "      <td>MD</td>\n",
              "      <td>7/4/2000 23:00</td>\n",
              "    </tr>\n",
              "    <tr>\n",
              "      <th>17322</th>\n",
              "      <td>Oakland</td>\n",
              "      <td>NaN</td>\n",
              "      <td>CYLINDER</td>\n",
              "      <td>CA</td>\n",
              "      <td>9/1/2000 21:35</td>\n",
              "    </tr>\n",
              "  </tbody>\n",
              "</table>\n",
              "</div>"
            ],
            "text/plain": [
              "          City Colors Reported Shape Reported State              Time\n",
              "1694   Oakland             NaN          CIGAR    CA   7/21/1968 14:00\n",
              "2144   Oakland             NaN           DISK    CA    8/19/1971 0:00\n",
              "4686   Oakland             NaN          LIGHT    MD     6/1/1982 0:00\n",
              "7293   Oakland             NaN          LIGHT    CA   3/28/1994 17:00\n",
              "8488   Oakland             NaN            NaN    CA   8/10/1995 21:45\n",
              "8768   Oakland             NaN            NaN    CA  10/10/1995 22:40\n",
              "10816  Oakland             NaN          LIGHT    OR   10/1/1997 21:30\n",
              "10948  Oakland             NaN           DISK    CA  11/14/1997 19:55\n",
              "11045  Oakland             NaN       TRIANGLE    CA   12/10/1997 1:30\n",
              "12322  Oakland             NaN       FIREBALL    CA   10/9/1998 19:40\n",
              "12941  Oakland             NaN       CYLINDER    CA   1/23/1999 21:30\n",
              "16803  Oakland             NaN       TRIANGLE    MD    7/4/2000 23:00\n",
              "17322  Oakland             NaN       CYLINDER    CA    9/1/2000 21:35"
            ]
          },
          "metadata": {
            "tags": []
          },
          "execution_count": 16
        }
      ]
    },
    {
      "cell_type": "code",
      "metadata": {
        "id": "cpstbiH8mVfZ",
        "colab_type": "code",
        "outputId": "cd4f7fd7-e1ee-4a28-ea18-b7aa8b593c23",
        "colab": {
          "base_uri": "https://localhost:8080/",
          "height": 452
        }
      },
      "source": [
        "#using loc with booleans to get the above output\n",
        "ufo.loc[ufo.City == 'Oakland' , :]"
      ],
      "execution_count": 17,
      "outputs": [
        {
          "output_type": "execute_result",
          "data": {
            "text/html": [
              "<div>\n",
              "<style scoped>\n",
              "    .dataframe tbody tr th:only-of-type {\n",
              "        vertical-align: middle;\n",
              "    }\n",
              "\n",
              "    .dataframe tbody tr th {\n",
              "        vertical-align: top;\n",
              "    }\n",
              "\n",
              "    .dataframe thead th {\n",
              "        text-align: right;\n",
              "    }\n",
              "</style>\n",
              "<table border=\"1\" class=\"dataframe\">\n",
              "  <thead>\n",
              "    <tr style=\"text-align: right;\">\n",
              "      <th></th>\n",
              "      <th>City</th>\n",
              "      <th>Colors Reported</th>\n",
              "      <th>Shape Reported</th>\n",
              "      <th>State</th>\n",
              "      <th>Time</th>\n",
              "    </tr>\n",
              "  </thead>\n",
              "  <tbody>\n",
              "    <tr>\n",
              "      <th>1694</th>\n",
              "      <td>Oakland</td>\n",
              "      <td>NaN</td>\n",
              "      <td>CIGAR</td>\n",
              "      <td>CA</td>\n",
              "      <td>7/21/1968 14:00</td>\n",
              "    </tr>\n",
              "    <tr>\n",
              "      <th>2144</th>\n",
              "      <td>Oakland</td>\n",
              "      <td>NaN</td>\n",
              "      <td>DISK</td>\n",
              "      <td>CA</td>\n",
              "      <td>8/19/1971 0:00</td>\n",
              "    </tr>\n",
              "    <tr>\n",
              "      <th>4686</th>\n",
              "      <td>Oakland</td>\n",
              "      <td>NaN</td>\n",
              "      <td>LIGHT</td>\n",
              "      <td>MD</td>\n",
              "      <td>6/1/1982 0:00</td>\n",
              "    </tr>\n",
              "    <tr>\n",
              "      <th>7293</th>\n",
              "      <td>Oakland</td>\n",
              "      <td>NaN</td>\n",
              "      <td>LIGHT</td>\n",
              "      <td>CA</td>\n",
              "      <td>3/28/1994 17:00</td>\n",
              "    </tr>\n",
              "    <tr>\n",
              "      <th>8488</th>\n",
              "      <td>Oakland</td>\n",
              "      <td>NaN</td>\n",
              "      <td>NaN</td>\n",
              "      <td>CA</td>\n",
              "      <td>8/10/1995 21:45</td>\n",
              "    </tr>\n",
              "    <tr>\n",
              "      <th>8768</th>\n",
              "      <td>Oakland</td>\n",
              "      <td>NaN</td>\n",
              "      <td>NaN</td>\n",
              "      <td>CA</td>\n",
              "      <td>10/10/1995 22:40</td>\n",
              "    </tr>\n",
              "    <tr>\n",
              "      <th>10816</th>\n",
              "      <td>Oakland</td>\n",
              "      <td>NaN</td>\n",
              "      <td>LIGHT</td>\n",
              "      <td>OR</td>\n",
              "      <td>10/1/1997 21:30</td>\n",
              "    </tr>\n",
              "    <tr>\n",
              "      <th>10948</th>\n",
              "      <td>Oakland</td>\n",
              "      <td>NaN</td>\n",
              "      <td>DISK</td>\n",
              "      <td>CA</td>\n",
              "      <td>11/14/1997 19:55</td>\n",
              "    </tr>\n",
              "    <tr>\n",
              "      <th>11045</th>\n",
              "      <td>Oakland</td>\n",
              "      <td>NaN</td>\n",
              "      <td>TRIANGLE</td>\n",
              "      <td>CA</td>\n",
              "      <td>12/10/1997 1:30</td>\n",
              "    </tr>\n",
              "    <tr>\n",
              "      <th>12322</th>\n",
              "      <td>Oakland</td>\n",
              "      <td>NaN</td>\n",
              "      <td>FIREBALL</td>\n",
              "      <td>CA</td>\n",
              "      <td>10/9/1998 19:40</td>\n",
              "    </tr>\n",
              "    <tr>\n",
              "      <th>12941</th>\n",
              "      <td>Oakland</td>\n",
              "      <td>NaN</td>\n",
              "      <td>CYLINDER</td>\n",
              "      <td>CA</td>\n",
              "      <td>1/23/1999 21:30</td>\n",
              "    </tr>\n",
              "    <tr>\n",
              "      <th>16803</th>\n",
              "      <td>Oakland</td>\n",
              "      <td>NaN</td>\n",
              "      <td>TRIANGLE</td>\n",
              "      <td>MD</td>\n",
              "      <td>7/4/2000 23:00</td>\n",
              "    </tr>\n",
              "    <tr>\n",
              "      <th>17322</th>\n",
              "      <td>Oakland</td>\n",
              "      <td>NaN</td>\n",
              "      <td>CYLINDER</td>\n",
              "      <td>CA</td>\n",
              "      <td>9/1/2000 21:35</td>\n",
              "    </tr>\n",
              "  </tbody>\n",
              "</table>\n",
              "</div>"
            ],
            "text/plain": [
              "          City Colors Reported Shape Reported State              Time\n",
              "1694   Oakland             NaN          CIGAR    CA   7/21/1968 14:00\n",
              "2144   Oakland             NaN           DISK    CA    8/19/1971 0:00\n",
              "4686   Oakland             NaN          LIGHT    MD     6/1/1982 0:00\n",
              "7293   Oakland             NaN          LIGHT    CA   3/28/1994 17:00\n",
              "8488   Oakland             NaN            NaN    CA   8/10/1995 21:45\n",
              "8768   Oakland             NaN            NaN    CA  10/10/1995 22:40\n",
              "10816  Oakland             NaN          LIGHT    OR   10/1/1997 21:30\n",
              "10948  Oakland             NaN           DISK    CA  11/14/1997 19:55\n",
              "11045  Oakland             NaN       TRIANGLE    CA   12/10/1997 1:30\n",
              "12322  Oakland             NaN       FIREBALL    CA   10/9/1998 19:40\n",
              "12941  Oakland             NaN       CYLINDER    CA   1/23/1999 21:30\n",
              "16803  Oakland             NaN       TRIANGLE    MD    7/4/2000 23:00\n",
              "17322  Oakland             NaN       CYLINDER    CA    9/1/2000 21:35"
            ]
          },
          "metadata": {
            "tags": []
          },
          "execution_count": 17
        }
      ]
    },
    {
      "cell_type": "code",
      "metadata": {
        "id": "KV8JFXA3mujB",
        "colab_type": "code",
        "outputId": "7ad65c72-f1c4-4642-c0cb-81947379315c",
        "colab": {
          "base_uri": "https://localhost:8080/",
          "height": 255
        }
      },
      "source": [
        "# select particular col based on bool condition\n",
        "'''\n",
        "    Executes in a single operations directly internally and safer\n",
        "'''\n",
        "ufo.loc[ufo.City == 'Oakland' , 'State']"
      ],
      "execution_count": 18,
      "outputs": [
        {
          "output_type": "execute_result",
          "data": {
            "text/plain": [
              "1694     CA\n",
              "2144     CA\n",
              "4686     MD\n",
              "7293     CA\n",
              "8488     CA\n",
              "8768     CA\n",
              "10816    OR\n",
              "10948    CA\n",
              "11045    CA\n",
              "12322    CA\n",
              "12941    CA\n",
              "16803    MD\n",
              "17322    CA\n",
              "Name: State, dtype: object"
            ]
          },
          "metadata": {
            "tags": []
          },
          "execution_count": 18
        }
      ]
    },
    {
      "cell_type": "markdown",
      "metadata": {
        "id": "9lQcMpjFxqHU",
        "colab_type": "text"
      },
      "source": [
        "### **NOTE :**\n",
        "###### using chained indexing may cause problems [BETTER DON'T USE]\n"
      ]
    },
    {
      "cell_type": "code",
      "metadata": {
        "id": "a_AnQWPgxJYU",
        "colab_type": "code",
        "outputId": "c6a6b49f-c232-49e2-ac0c-53f5c96713dc",
        "colab": {
          "base_uri": "https://localhost:8080/",
          "height": 255
        }
      },
      "source": [
        "# doing above code using chained indexing\n",
        "'''\n",
        "    Executes two operations to get the result and not that safe\n",
        "'''\n",
        "ufo.loc[ufo.City == 'Oakland'].State"
      ],
      "execution_count": 19,
      "outputs": [
        {
          "output_type": "execute_result",
          "data": {
            "text/plain": [
              "1694     CA\n",
              "2144     CA\n",
              "4686     MD\n",
              "7293     CA\n",
              "8488     CA\n",
              "8768     CA\n",
              "10816    OR\n",
              "10948    CA\n",
              "11045    CA\n",
              "12322    CA\n",
              "12941    CA\n",
              "16803    MD\n",
              "17322    CA\n",
              "Name: State, dtype: object"
            ]
          },
          "metadata": {
            "tags": []
          },
          "execution_count": 19
        }
      ]
    },
    {
      "cell_type": "markdown",
      "metadata": {
        "id": "sw6mePQfzROE",
        "colab_type": "text"
      },
      "source": [
        "#### **iloc:**\n",
        "###### Column Selection\n",
        "###### (i-integer position in iloc)"
      ]
    },
    {
      "cell_type": "code",
      "metadata": {
        "id": "Ntvsojp9xY30",
        "colab_type": "code",
        "outputId": "debeafad-8ad5-4195-9070-d6cfb77daa12",
        "colab": {
          "base_uri": "https://localhost:8080/",
          "height": 0
        }
      },
      "source": [
        "# Syntax: iloc[rows , cols]\n",
        "'''\n",
        "    Here 0 & 3 represents the index position of the columns \n",
        "    0-->>City & 3-->>State\n",
        "'''\n",
        "# selects all rows of column 0 & 3\n",
        "ufo.iloc[: , [0,3]]"
      ],
      "execution_count": 20,
      "outputs": [
        {
          "output_type": "execute_result",
          "data": {
            "text/html": [
              "<div>\n",
              "<style scoped>\n",
              "    .dataframe tbody tr th:only-of-type {\n",
              "        vertical-align: middle;\n",
              "    }\n",
              "\n",
              "    .dataframe tbody tr th {\n",
              "        vertical-align: top;\n",
              "    }\n",
              "\n",
              "    .dataframe thead th {\n",
              "        text-align: right;\n",
              "    }\n",
              "</style>\n",
              "<table border=\"1\" class=\"dataframe\">\n",
              "  <thead>\n",
              "    <tr style=\"text-align: right;\">\n",
              "      <th></th>\n",
              "      <th>City</th>\n",
              "      <th>State</th>\n",
              "    </tr>\n",
              "  </thead>\n",
              "  <tbody>\n",
              "    <tr>\n",
              "      <th>0</th>\n",
              "      <td>Ithaca</td>\n",
              "      <td>NY</td>\n",
              "    </tr>\n",
              "    <tr>\n",
              "      <th>1</th>\n",
              "      <td>Willingboro</td>\n",
              "      <td>NJ</td>\n",
              "    </tr>\n",
              "    <tr>\n",
              "      <th>2</th>\n",
              "      <td>Holyoke</td>\n",
              "      <td>CO</td>\n",
              "    </tr>\n",
              "    <tr>\n",
              "      <th>3</th>\n",
              "      <td>Abilene</td>\n",
              "      <td>KS</td>\n",
              "    </tr>\n",
              "    <tr>\n",
              "      <th>4</th>\n",
              "      <td>New York Worlds Fair</td>\n",
              "      <td>NY</td>\n",
              "    </tr>\n",
              "    <tr>\n",
              "      <th>...</th>\n",
              "      <td>...</td>\n",
              "      <td>...</td>\n",
              "    </tr>\n",
              "    <tr>\n",
              "      <th>18236</th>\n",
              "      <td>Grant Park</td>\n",
              "      <td>IL</td>\n",
              "    </tr>\n",
              "    <tr>\n",
              "      <th>18237</th>\n",
              "      <td>Spirit Lake</td>\n",
              "      <td>IA</td>\n",
              "    </tr>\n",
              "    <tr>\n",
              "      <th>18238</th>\n",
              "      <td>Eagle River</td>\n",
              "      <td>WI</td>\n",
              "    </tr>\n",
              "    <tr>\n",
              "      <th>18239</th>\n",
              "      <td>Eagle River</td>\n",
              "      <td>WI</td>\n",
              "    </tr>\n",
              "    <tr>\n",
              "      <th>18240</th>\n",
              "      <td>Ybor</td>\n",
              "      <td>FL</td>\n",
              "    </tr>\n",
              "  </tbody>\n",
              "</table>\n",
              "<p>18241 rows × 2 columns</p>\n",
              "</div>"
            ],
            "text/plain": [
              "                       City State\n",
              "0                    Ithaca    NY\n",
              "1               Willingboro    NJ\n",
              "2                   Holyoke    CO\n",
              "3                   Abilene    KS\n",
              "4      New York Worlds Fair    NY\n",
              "...                     ...   ...\n",
              "18236            Grant Park    IL\n",
              "18237           Spirit Lake    IA\n",
              "18238           Eagle River    WI\n",
              "18239           Eagle River    WI\n",
              "18240                  Ybor    FL\n",
              "\n",
              "[18241 rows x 2 columns]"
            ]
          },
          "metadata": {
            "tags": []
          },
          "execution_count": 20
        }
      ]
    },
    {
      "cell_type": "markdown",
      "metadata": {
        "id": "gvwglAh011id",
        "colab_type": "text"
      },
      "source": [
        "### **NOTE:**\n",
        "###### when slicing with iloc[ ] 2nd value is not included"
      ]
    },
    {
      "cell_type": "code",
      "metadata": {
        "id": "rBFDLAv7zpxF",
        "colab_type": "code",
        "outputId": "0fcbbef8-796d-4c47-bef1-e29a0c71f7f9",
        "colab": {
          "base_uri": "https://localhost:8080/",
          "height": 419
        }
      },
      "source": [
        "# selecting all rows of cols from 0 through 3\n",
        "# here iloc selects cols from 0 to 3 only not till 4\n",
        "ufo.iloc[: , 0:4]"
      ],
      "execution_count": 21,
      "outputs": [
        {
          "output_type": "execute_result",
          "data": {
            "text/html": [
              "<div>\n",
              "<style scoped>\n",
              "    .dataframe tbody tr th:only-of-type {\n",
              "        vertical-align: middle;\n",
              "    }\n",
              "\n",
              "    .dataframe tbody tr th {\n",
              "        vertical-align: top;\n",
              "    }\n",
              "\n",
              "    .dataframe thead th {\n",
              "        text-align: right;\n",
              "    }\n",
              "</style>\n",
              "<table border=\"1\" class=\"dataframe\">\n",
              "  <thead>\n",
              "    <tr style=\"text-align: right;\">\n",
              "      <th></th>\n",
              "      <th>City</th>\n",
              "      <th>Colors Reported</th>\n",
              "      <th>Shape Reported</th>\n",
              "      <th>State</th>\n",
              "    </tr>\n",
              "  </thead>\n",
              "  <tbody>\n",
              "    <tr>\n",
              "      <th>0</th>\n",
              "      <td>Ithaca</td>\n",
              "      <td>NaN</td>\n",
              "      <td>TRIANGLE</td>\n",
              "      <td>NY</td>\n",
              "    </tr>\n",
              "    <tr>\n",
              "      <th>1</th>\n",
              "      <td>Willingboro</td>\n",
              "      <td>NaN</td>\n",
              "      <td>OTHER</td>\n",
              "      <td>NJ</td>\n",
              "    </tr>\n",
              "    <tr>\n",
              "      <th>2</th>\n",
              "      <td>Holyoke</td>\n",
              "      <td>NaN</td>\n",
              "      <td>OVAL</td>\n",
              "      <td>CO</td>\n",
              "    </tr>\n",
              "    <tr>\n",
              "      <th>3</th>\n",
              "      <td>Abilene</td>\n",
              "      <td>NaN</td>\n",
              "      <td>DISK</td>\n",
              "      <td>KS</td>\n",
              "    </tr>\n",
              "    <tr>\n",
              "      <th>4</th>\n",
              "      <td>New York Worlds Fair</td>\n",
              "      <td>NaN</td>\n",
              "      <td>LIGHT</td>\n",
              "      <td>NY</td>\n",
              "    </tr>\n",
              "    <tr>\n",
              "      <th>...</th>\n",
              "      <td>...</td>\n",
              "      <td>...</td>\n",
              "      <td>...</td>\n",
              "      <td>...</td>\n",
              "    </tr>\n",
              "    <tr>\n",
              "      <th>18236</th>\n",
              "      <td>Grant Park</td>\n",
              "      <td>NaN</td>\n",
              "      <td>TRIANGLE</td>\n",
              "      <td>IL</td>\n",
              "    </tr>\n",
              "    <tr>\n",
              "      <th>18237</th>\n",
              "      <td>Spirit Lake</td>\n",
              "      <td>NaN</td>\n",
              "      <td>DISK</td>\n",
              "      <td>IA</td>\n",
              "    </tr>\n",
              "    <tr>\n",
              "      <th>18238</th>\n",
              "      <td>Eagle River</td>\n",
              "      <td>NaN</td>\n",
              "      <td>NaN</td>\n",
              "      <td>WI</td>\n",
              "    </tr>\n",
              "    <tr>\n",
              "      <th>18239</th>\n",
              "      <td>Eagle River</td>\n",
              "      <td>RED</td>\n",
              "      <td>LIGHT</td>\n",
              "      <td>WI</td>\n",
              "    </tr>\n",
              "    <tr>\n",
              "      <th>18240</th>\n",
              "      <td>Ybor</td>\n",
              "      <td>NaN</td>\n",
              "      <td>OVAL</td>\n",
              "      <td>FL</td>\n",
              "    </tr>\n",
              "  </tbody>\n",
              "</table>\n",
              "<p>18241 rows × 4 columns</p>\n",
              "</div>"
            ],
            "text/plain": [
              "                       City Colors Reported Shape Reported State\n",
              "0                    Ithaca             NaN       TRIANGLE    NY\n",
              "1               Willingboro             NaN          OTHER    NJ\n",
              "2                   Holyoke             NaN           OVAL    CO\n",
              "3                   Abilene             NaN           DISK    KS\n",
              "4      New York Worlds Fair             NaN          LIGHT    NY\n",
              "...                     ...             ...            ...   ...\n",
              "18236            Grant Park             NaN       TRIANGLE    IL\n",
              "18237           Spirit Lake             NaN           DISK    IA\n",
              "18238           Eagle River             NaN            NaN    WI\n",
              "18239           Eagle River             RED          LIGHT    WI\n",
              "18240                  Ybor             NaN           OVAL    FL\n",
              "\n",
              "[18241 rows x 4 columns]"
            ]
          },
          "metadata": {
            "tags": []
          },
          "execution_count": 21
        }
      ]
    },
    {
      "cell_type": "code",
      "metadata": {
        "id": "L4EgLEHG2ORG",
        "colab_type": "code",
        "outputId": "85af2415-5cb5-4b5e-cf41-851ef8a3191e",
        "colab": {
          "base_uri": "https://localhost:8080/",
          "height": 34
        }
      },
      "source": [
        "ufo.columns"
      ],
      "execution_count": 22,
      "outputs": [
        {
          "output_type": "execute_result",
          "data": {
            "text/plain": [
              "Index(['City', 'Colors Reported', 'Shape Reported', 'State', 'Time'], dtype='object')"
            ]
          },
          "metadata": {
            "tags": []
          },
          "execution_count": 22
        }
      ]
    },
    {
      "cell_type": "code",
      "metadata": {
        "id": "roQl6dMb2dNF",
        "colab_type": "code",
        "outputId": "8f71275d-8b9b-4490-bb51-19d49da5170d",
        "colab": {
          "base_uri": "https://localhost:8080/",
          "height": 34
        }
      },
      "source": [
        "list(range(0,4))"
      ],
      "execution_count": 23,
      "outputs": [
        {
          "output_type": "execute_result",
          "data": {
            "text/plain": [
              "[0, 1, 2, 3]"
            ]
          },
          "metadata": {
            "tags": []
          },
          "execution_count": 23
        }
      ]
    },
    {
      "cell_type": "code",
      "metadata": {
        "id": "CRLl0vJl2kNl",
        "colab_type": "code",
        "outputId": "c6296d89-808c-4f7c-d34c-be6f8e2a6039",
        "colab": {
          "base_uri": "https://localhost:8080/",
          "height": 142
        }
      },
      "source": [
        "# select all cols of rows 0 through 3 using iloc\n",
        "ufo.iloc[0:3 , :]"
      ],
      "execution_count": 24,
      "outputs": [
        {
          "output_type": "execute_result",
          "data": {
            "text/html": [
              "<div>\n",
              "<style scoped>\n",
              "    .dataframe tbody tr th:only-of-type {\n",
              "        vertical-align: middle;\n",
              "    }\n",
              "\n",
              "    .dataframe tbody tr th {\n",
              "        vertical-align: top;\n",
              "    }\n",
              "\n",
              "    .dataframe thead th {\n",
              "        text-align: right;\n",
              "    }\n",
              "</style>\n",
              "<table border=\"1\" class=\"dataframe\">\n",
              "  <thead>\n",
              "    <tr style=\"text-align: right;\">\n",
              "      <th></th>\n",
              "      <th>City</th>\n",
              "      <th>Colors Reported</th>\n",
              "      <th>Shape Reported</th>\n",
              "      <th>State</th>\n",
              "      <th>Time</th>\n",
              "    </tr>\n",
              "  </thead>\n",
              "  <tbody>\n",
              "    <tr>\n",
              "      <th>0</th>\n",
              "      <td>Ithaca</td>\n",
              "      <td>NaN</td>\n",
              "      <td>TRIANGLE</td>\n",
              "      <td>NY</td>\n",
              "      <td>6/1/1930 22:00</td>\n",
              "    </tr>\n",
              "    <tr>\n",
              "      <th>1</th>\n",
              "      <td>Willingboro</td>\n",
              "      <td>NaN</td>\n",
              "      <td>OTHER</td>\n",
              "      <td>NJ</td>\n",
              "      <td>6/30/1930 20:00</td>\n",
              "    </tr>\n",
              "    <tr>\n",
              "      <th>2</th>\n",
              "      <td>Holyoke</td>\n",
              "      <td>NaN</td>\n",
              "      <td>OVAL</td>\n",
              "      <td>CO</td>\n",
              "      <td>2/15/1931 14:00</td>\n",
              "    </tr>\n",
              "  </tbody>\n",
              "</table>\n",
              "</div>"
            ],
            "text/plain": [
              "          City Colors Reported Shape Reported State             Time\n",
              "0       Ithaca             NaN       TRIANGLE    NY   6/1/1930 22:00\n",
              "1  Willingboro             NaN          OTHER    NJ  6/30/1930 20:00\n",
              "2      Holyoke             NaN           OVAL    CO  2/15/1931 14:00"
            ]
          },
          "metadata": {
            "tags": []
          },
          "execution_count": 24
        }
      ]
    },
    {
      "cell_type": "code",
      "metadata": {
        "id": "wpB_80N225QV",
        "colab_type": "code",
        "outputId": "88a3d3b0-8ee7-4419-b642-3042672c1c06",
        "colab": {
          "base_uri": "https://localhost:8080/",
          "height": 419
        }
      },
      "source": [
        "'''\n",
        "    NOT RECOMMENDED : passing col names as inner list to select them\n",
        "'''\n",
        "# select all rows of col City & State\n",
        "ufo[['City','State']]\n",
        "# use loc instead of the above one\n",
        "# ufo.loc[: , ['City' , 'State']]"
      ],
      "execution_count": 25,
      "outputs": [
        {
          "output_type": "execute_result",
          "data": {
            "text/html": [
              "<div>\n",
              "<style scoped>\n",
              "    .dataframe tbody tr th:only-of-type {\n",
              "        vertical-align: middle;\n",
              "    }\n",
              "\n",
              "    .dataframe tbody tr th {\n",
              "        vertical-align: top;\n",
              "    }\n",
              "\n",
              "    .dataframe thead th {\n",
              "        text-align: right;\n",
              "    }\n",
              "</style>\n",
              "<table border=\"1\" class=\"dataframe\">\n",
              "  <thead>\n",
              "    <tr style=\"text-align: right;\">\n",
              "      <th></th>\n",
              "      <th>City</th>\n",
              "      <th>State</th>\n",
              "    </tr>\n",
              "  </thead>\n",
              "  <tbody>\n",
              "    <tr>\n",
              "      <th>0</th>\n",
              "      <td>Ithaca</td>\n",
              "      <td>NY</td>\n",
              "    </tr>\n",
              "    <tr>\n",
              "      <th>1</th>\n",
              "      <td>Willingboro</td>\n",
              "      <td>NJ</td>\n",
              "    </tr>\n",
              "    <tr>\n",
              "      <th>2</th>\n",
              "      <td>Holyoke</td>\n",
              "      <td>CO</td>\n",
              "    </tr>\n",
              "    <tr>\n",
              "      <th>3</th>\n",
              "      <td>Abilene</td>\n",
              "      <td>KS</td>\n",
              "    </tr>\n",
              "    <tr>\n",
              "      <th>4</th>\n",
              "      <td>New York Worlds Fair</td>\n",
              "      <td>NY</td>\n",
              "    </tr>\n",
              "    <tr>\n",
              "      <th>...</th>\n",
              "      <td>...</td>\n",
              "      <td>...</td>\n",
              "    </tr>\n",
              "    <tr>\n",
              "      <th>18236</th>\n",
              "      <td>Grant Park</td>\n",
              "      <td>IL</td>\n",
              "    </tr>\n",
              "    <tr>\n",
              "      <th>18237</th>\n",
              "      <td>Spirit Lake</td>\n",
              "      <td>IA</td>\n",
              "    </tr>\n",
              "    <tr>\n",
              "      <th>18238</th>\n",
              "      <td>Eagle River</td>\n",
              "      <td>WI</td>\n",
              "    </tr>\n",
              "    <tr>\n",
              "      <th>18239</th>\n",
              "      <td>Eagle River</td>\n",
              "      <td>WI</td>\n",
              "    </tr>\n",
              "    <tr>\n",
              "      <th>18240</th>\n",
              "      <td>Ybor</td>\n",
              "      <td>FL</td>\n",
              "    </tr>\n",
              "  </tbody>\n",
              "</table>\n",
              "<p>18241 rows × 2 columns</p>\n",
              "</div>"
            ],
            "text/plain": [
              "                       City State\n",
              "0                    Ithaca    NY\n",
              "1               Willingboro    NJ\n",
              "2                   Holyoke    CO\n",
              "3                   Abilene    KS\n",
              "4      New York Worlds Fair    NY\n",
              "...                     ...   ...\n",
              "18236            Grant Park    IL\n",
              "18237           Spirit Lake    IA\n",
              "18238           Eagle River    WI\n",
              "18239           Eagle River    WI\n",
              "18240                  Ybor    FL\n",
              "\n",
              "[18241 rows x 2 columns]"
            ]
          },
          "metadata": {
            "tags": []
          },
          "execution_count": 25
        }
      ]
    },
    {
      "cell_type": "code",
      "metadata": {
        "id": "az_e-Igs3nvd",
        "colab_type": "code",
        "outputId": "a307da8e-9baa-4ddf-f866-16d5b581d9e0",
        "colab": {
          "base_uri": "https://localhost:8080/",
          "height": 419
        }
      },
      "source": [
        "ufo.loc[:,['City','State']]"
      ],
      "execution_count": 26,
      "outputs": [
        {
          "output_type": "execute_result",
          "data": {
            "text/html": [
              "<div>\n",
              "<style scoped>\n",
              "    .dataframe tbody tr th:only-of-type {\n",
              "        vertical-align: middle;\n",
              "    }\n",
              "\n",
              "    .dataframe tbody tr th {\n",
              "        vertical-align: top;\n",
              "    }\n",
              "\n",
              "    .dataframe thead th {\n",
              "        text-align: right;\n",
              "    }\n",
              "</style>\n",
              "<table border=\"1\" class=\"dataframe\">\n",
              "  <thead>\n",
              "    <tr style=\"text-align: right;\">\n",
              "      <th></th>\n",
              "      <th>City</th>\n",
              "      <th>State</th>\n",
              "    </tr>\n",
              "  </thead>\n",
              "  <tbody>\n",
              "    <tr>\n",
              "      <th>0</th>\n",
              "      <td>Ithaca</td>\n",
              "      <td>NY</td>\n",
              "    </tr>\n",
              "    <tr>\n",
              "      <th>1</th>\n",
              "      <td>Willingboro</td>\n",
              "      <td>NJ</td>\n",
              "    </tr>\n",
              "    <tr>\n",
              "      <th>2</th>\n",
              "      <td>Holyoke</td>\n",
              "      <td>CO</td>\n",
              "    </tr>\n",
              "    <tr>\n",
              "      <th>3</th>\n",
              "      <td>Abilene</td>\n",
              "      <td>KS</td>\n",
              "    </tr>\n",
              "    <tr>\n",
              "      <th>4</th>\n",
              "      <td>New York Worlds Fair</td>\n",
              "      <td>NY</td>\n",
              "    </tr>\n",
              "    <tr>\n",
              "      <th>...</th>\n",
              "      <td>...</td>\n",
              "      <td>...</td>\n",
              "    </tr>\n",
              "    <tr>\n",
              "      <th>18236</th>\n",
              "      <td>Grant Park</td>\n",
              "      <td>IL</td>\n",
              "    </tr>\n",
              "    <tr>\n",
              "      <th>18237</th>\n",
              "      <td>Spirit Lake</td>\n",
              "      <td>IA</td>\n",
              "    </tr>\n",
              "    <tr>\n",
              "      <th>18238</th>\n",
              "      <td>Eagle River</td>\n",
              "      <td>WI</td>\n",
              "    </tr>\n",
              "    <tr>\n",
              "      <th>18239</th>\n",
              "      <td>Eagle River</td>\n",
              "      <td>WI</td>\n",
              "    </tr>\n",
              "    <tr>\n",
              "      <th>18240</th>\n",
              "      <td>Ybor</td>\n",
              "      <td>FL</td>\n",
              "    </tr>\n",
              "  </tbody>\n",
              "</table>\n",
              "<p>18241 rows × 2 columns</p>\n",
              "</div>"
            ],
            "text/plain": [
              "                       City State\n",
              "0                    Ithaca    NY\n",
              "1               Willingboro    NJ\n",
              "2                   Holyoke    CO\n",
              "3                   Abilene    KS\n",
              "4      New York Worlds Fair    NY\n",
              "...                     ...   ...\n",
              "18236            Grant Park    IL\n",
              "18237           Spirit Lake    IA\n",
              "18238           Eagle River    WI\n",
              "18239           Eagle River    WI\n",
              "18240                  Ybor    FL\n",
              "\n",
              "[18241 rows x 2 columns]"
            ]
          },
          "metadata": {
            "tags": []
          },
          "execution_count": 26
        }
      ]
    },
    {
      "cell_type": "code",
      "metadata": {
        "id": "I7HF6_JX38IV",
        "colab_type": "code",
        "outputId": "ecfd7e77-5289-4451-b12e-34d73832153f",
        "colab": {
          "base_uri": "https://localhost:8080/",
          "height": 111
        }
      },
      "source": [
        "\n",
        "'''\n",
        "    NOT RECOMMENDED\n",
        "'''\n",
        "# here 0:2 refers to rows not cols\n",
        "# it selects rows with index position\n",
        "ufo[0:2]\n",
        "# instead use with iloc to fetch using integer posiitons\n",
        "#ufo.iloc[0:2 , :]"
      ],
      "execution_count": 27,
      "outputs": [
        {
          "output_type": "execute_result",
          "data": {
            "text/html": [
              "<div>\n",
              "<style scoped>\n",
              "    .dataframe tbody tr th:only-of-type {\n",
              "        vertical-align: middle;\n",
              "    }\n",
              "\n",
              "    .dataframe tbody tr th {\n",
              "        vertical-align: top;\n",
              "    }\n",
              "\n",
              "    .dataframe thead th {\n",
              "        text-align: right;\n",
              "    }\n",
              "</style>\n",
              "<table border=\"1\" class=\"dataframe\">\n",
              "  <thead>\n",
              "    <tr style=\"text-align: right;\">\n",
              "      <th></th>\n",
              "      <th>City</th>\n",
              "      <th>Colors Reported</th>\n",
              "      <th>Shape Reported</th>\n",
              "      <th>State</th>\n",
              "      <th>Time</th>\n",
              "    </tr>\n",
              "  </thead>\n",
              "  <tbody>\n",
              "    <tr>\n",
              "      <th>0</th>\n",
              "      <td>Ithaca</td>\n",
              "      <td>NaN</td>\n",
              "      <td>TRIANGLE</td>\n",
              "      <td>NY</td>\n",
              "      <td>6/1/1930 22:00</td>\n",
              "    </tr>\n",
              "    <tr>\n",
              "      <th>1</th>\n",
              "      <td>Willingboro</td>\n",
              "      <td>NaN</td>\n",
              "      <td>OTHER</td>\n",
              "      <td>NJ</td>\n",
              "      <td>6/30/1930 20:00</td>\n",
              "    </tr>\n",
              "  </tbody>\n",
              "</table>\n",
              "</div>"
            ],
            "text/plain": [
              "          City Colors Reported Shape Reported State             Time\n",
              "0       Ithaca             NaN       TRIANGLE    NY   6/1/1930 22:00\n",
              "1  Willingboro             NaN          OTHER    NJ  6/30/1930 20:00"
            ]
          },
          "metadata": {
            "tags": []
          },
          "execution_count": 27
        }
      ]
    },
    {
      "cell_type": "code",
      "metadata": {
        "id": "kxi79Hkn4J29",
        "colab_type": "code",
        "outputId": "0a84a8d5-bd5e-47c0-a1e6-44da0c28a251",
        "colab": {
          "base_uri": "https://localhost:8080/",
          "height": 111
        }
      },
      "source": [
        "ufo.iloc[0:2 , :]"
      ],
      "execution_count": 28,
      "outputs": [
        {
          "output_type": "execute_result",
          "data": {
            "text/html": [
              "<div>\n",
              "<style scoped>\n",
              "    .dataframe tbody tr th:only-of-type {\n",
              "        vertical-align: middle;\n",
              "    }\n",
              "\n",
              "    .dataframe tbody tr th {\n",
              "        vertical-align: top;\n",
              "    }\n",
              "\n",
              "    .dataframe thead th {\n",
              "        text-align: right;\n",
              "    }\n",
              "</style>\n",
              "<table border=\"1\" class=\"dataframe\">\n",
              "  <thead>\n",
              "    <tr style=\"text-align: right;\">\n",
              "      <th></th>\n",
              "      <th>City</th>\n",
              "      <th>Colors Reported</th>\n",
              "      <th>Shape Reported</th>\n",
              "      <th>State</th>\n",
              "      <th>Time</th>\n",
              "    </tr>\n",
              "  </thead>\n",
              "  <tbody>\n",
              "    <tr>\n",
              "      <th>0</th>\n",
              "      <td>Ithaca</td>\n",
              "      <td>NaN</td>\n",
              "      <td>TRIANGLE</td>\n",
              "      <td>NY</td>\n",
              "      <td>6/1/1930 22:00</td>\n",
              "    </tr>\n",
              "    <tr>\n",
              "      <th>1</th>\n",
              "      <td>Willingboro</td>\n",
              "      <td>NaN</td>\n",
              "      <td>OTHER</td>\n",
              "      <td>NJ</td>\n",
              "      <td>6/30/1930 20:00</td>\n",
              "    </tr>\n",
              "  </tbody>\n",
              "</table>\n",
              "</div>"
            ],
            "text/plain": [
              "          City Colors Reported Shape Reported State             Time\n",
              "0       Ithaca             NaN       TRIANGLE    NY   6/1/1930 22:00\n",
              "1  Willingboro             NaN          OTHER    NJ  6/30/1930 20:00"
            ]
          },
          "metadata": {
            "tags": []
          },
          "execution_count": 28
        }
      ]
    },
    {
      "cell_type": "markdown",
      "metadata": {
        "id": "dTJU-df25MDP",
        "colab_type": "text"
      },
      "source": [
        "### **ix:** [NOT IN USE]\n",
        "###### ==>> allows to mix labels & integers during selection\n",
        "###### ==>> simply combination of loc & iloc"
      ]
    },
    {
      "cell_type": "code",
      "metadata": {
        "id": "CUM7vsqH4qK2",
        "colab_type": "code",
        "colab": {}
      },
      "source": [
        "# setting index when reading a file\n",
        "drinks = pd.read_csv(\"http://bit.ly/drinksbycountry\", index_col = \"country\")"
      ],
      "execution_count": 0,
      "outputs": []
    },
    {
      "cell_type": "code",
      "metadata": {
        "id": "3A62Whq059B-",
        "colab_type": "code",
        "outputId": "756ebf74-eef2-4ea0-a265-d102525348a0",
        "colab": {
          "base_uri": "https://localhost:8080/",
          "height": 235
        }
      },
      "source": [
        "drinks.head()"
      ],
      "execution_count": 30,
      "outputs": [
        {
          "output_type": "execute_result",
          "data": {
            "text/html": [
              "<div>\n",
              "<style scoped>\n",
              "    .dataframe tbody tr th:only-of-type {\n",
              "        vertical-align: middle;\n",
              "    }\n",
              "\n",
              "    .dataframe tbody tr th {\n",
              "        vertical-align: top;\n",
              "    }\n",
              "\n",
              "    .dataframe thead th {\n",
              "        text-align: right;\n",
              "    }\n",
              "</style>\n",
              "<table border=\"1\" class=\"dataframe\">\n",
              "  <thead>\n",
              "    <tr style=\"text-align: right;\">\n",
              "      <th></th>\n",
              "      <th>beer_servings</th>\n",
              "      <th>spirit_servings</th>\n",
              "      <th>wine_servings</th>\n",
              "      <th>total_litres_of_pure_alcohol</th>\n",
              "      <th>continent</th>\n",
              "    </tr>\n",
              "    <tr>\n",
              "      <th>country</th>\n",
              "      <th></th>\n",
              "      <th></th>\n",
              "      <th></th>\n",
              "      <th></th>\n",
              "      <th></th>\n",
              "    </tr>\n",
              "  </thead>\n",
              "  <tbody>\n",
              "    <tr>\n",
              "      <th>Afghanistan</th>\n",
              "      <td>0</td>\n",
              "      <td>0</td>\n",
              "      <td>0</td>\n",
              "      <td>0.0</td>\n",
              "      <td>Asia</td>\n",
              "    </tr>\n",
              "    <tr>\n",
              "      <th>Albania</th>\n",
              "      <td>89</td>\n",
              "      <td>132</td>\n",
              "      <td>54</td>\n",
              "      <td>4.9</td>\n",
              "      <td>Europe</td>\n",
              "    </tr>\n",
              "    <tr>\n",
              "      <th>Algeria</th>\n",
              "      <td>25</td>\n",
              "      <td>0</td>\n",
              "      <td>14</td>\n",
              "      <td>0.7</td>\n",
              "      <td>Africa</td>\n",
              "    </tr>\n",
              "    <tr>\n",
              "      <th>Andorra</th>\n",
              "      <td>245</td>\n",
              "      <td>138</td>\n",
              "      <td>312</td>\n",
              "      <td>12.4</td>\n",
              "      <td>Europe</td>\n",
              "    </tr>\n",
              "    <tr>\n",
              "      <th>Angola</th>\n",
              "      <td>217</td>\n",
              "      <td>57</td>\n",
              "      <td>45</td>\n",
              "      <td>5.9</td>\n",
              "      <td>Africa</td>\n",
              "    </tr>\n",
              "  </tbody>\n",
              "</table>\n",
              "</div>"
            ],
            "text/plain": [
              "             beer_servings  ...  continent\n",
              "country                     ...           \n",
              "Afghanistan              0  ...       Asia\n",
              "Albania                 89  ...     Europe\n",
              "Algeria                 25  ...     Africa\n",
              "Andorra                245  ...     Europe\n",
              "Angola                 217  ...     Africa\n",
              "\n",
              "[5 rows x 5 columns]"
            ]
          },
          "metadata": {
            "tags": []
          },
          "execution_count": 30
        }
      ]
    },
    {
      "cell_type": "code",
      "metadata": {
        "id": "8kAQi_zA5_Oe",
        "colab_type": "code",
        "outputId": "f930000d-8f67-4b6a-e34a-4e8953a31aee",
        "colab": {
          "base_uri": "https://localhost:8080/",
          "height": 306
        }
      },
      "source": [
        "# here '0' refers to col index and 'Albania' refers to row index\n",
        "drinks.ix['Albania' , 0]"
      ],
      "execution_count": 34,
      "outputs": [
        {
          "output_type": "stream",
          "text": [
            "/usr/local/lib/python3.6/dist-packages/ipykernel_launcher.py:1: FutureWarning: \n",
            ".ix is deprecated. Please use\n",
            ".loc for label based indexing or\n",
            ".iloc for positional indexing\n",
            "\n",
            "See the documentation here:\n",
            "http://pandas.pydata.org/pandas-docs/stable/user_guide/indexing.html#ix-indexer-is-deprecated\n",
            "  \"\"\"Entry point for launching an IPython kernel.\n",
            "/usr/local/lib/python3.6/dist-packages/pandas/core/indexing.py:961: FutureWarning: \n",
            ".ix is deprecated. Please use\n",
            ".loc for label based indexing or\n",
            ".iloc for positional indexing\n",
            "\n",
            "See the documentation here:\n",
            "http://pandas.pydata.org/pandas-docs/stable/user_guide/indexing.html#ix-indexer-is-deprecated\n",
            "  return getattr(section, self.name)[new_key]\n"
          ],
          "name": "stderr"
        },
        {
          "output_type": "execute_result",
          "data": {
            "text/plain": [
              "89"
            ]
          },
          "metadata": {
            "tags": []
          },
          "execution_count": 34
        }
      ]
    },
    {
      "cell_type": "code",
      "metadata": {
        "id": "BDEKRXCb7F5k",
        "colab_type": "code",
        "colab": {
          "base_uri": "https://localhost:8080/",
          "height": 306
        },
        "outputId": "86edace8-7a0e-489e-c8dd-d5e1c436f766"
      },
      "source": [
        "#getting above result in different way\n",
        "# here 1 refers to row index \n",
        "drinks.ix[1, 'beer_servings']"
      ],
      "execution_count": 36,
      "outputs": [
        {
          "output_type": "stream",
          "text": [
            "/usr/local/lib/python3.6/dist-packages/ipykernel_launcher.py:1: FutureWarning: \n",
            ".ix is deprecated. Please use\n",
            ".loc for label based indexing or\n",
            ".iloc for positional indexing\n",
            "\n",
            "See the documentation here:\n",
            "http://pandas.pydata.org/pandas-docs/stable/user_guide/indexing.html#ix-indexer-is-deprecated\n",
            "  \"\"\"Entry point for launching an IPython kernel.\n",
            "/usr/local/lib/python3.6/dist-packages/pandas/core/indexing.py:961: FutureWarning: \n",
            ".ix is deprecated. Please use\n",
            ".loc for label based indexing or\n",
            ".iloc for positional indexing\n",
            "\n",
            "See the documentation here:\n",
            "http://pandas.pydata.org/pandas-docs/stable/user_guide/indexing.html#ix-indexer-is-deprecated\n",
            "  return getattr(section, self.name)[new_key]\n"
          ],
          "name": "stderr"
        },
        {
          "output_type": "execute_result",
          "data": {
            "text/plain": [
              "89"
            ]
          },
          "metadata": {
            "tags": []
          },
          "execution_count": 36
        }
      ]
    },
    {
      "cell_type": "code",
      "metadata": {
        "id": "g_z6Emi3lYN2",
        "colab_type": "code",
        "colab": {
          "base_uri": "https://localhost:8080/",
          "height": 445
        },
        "outputId": "018f675a-0d8a-4013-d2ed-2d15852c1616"
      },
      "source": [
        "drinks.ix['Albania':'Andorra', 0:2]"
      ],
      "execution_count": 38,
      "outputs": [
        {
          "output_type": "stream",
          "text": [
            "/usr/local/lib/python3.6/dist-packages/ipykernel_launcher.py:1: FutureWarning: \n",
            ".ix is deprecated. Please use\n",
            ".loc for label based indexing or\n",
            ".iloc for positional indexing\n",
            "\n",
            "See the documentation here:\n",
            "http://pandas.pydata.org/pandas-docs/stable/user_guide/indexing.html#ix-indexer-is-deprecated\n",
            "  \"\"\"Entry point for launching an IPython kernel.\n",
            "/usr/local/lib/python3.6/dist-packages/pandas/core/indexing.py:822: FutureWarning: \n",
            ".ix is deprecated. Please use\n",
            ".loc for label based indexing or\n",
            ".iloc for positional indexing\n",
            "\n",
            "See the documentation here:\n",
            "http://pandas.pydata.org/pandas-docs/stable/user_guide/indexing.html#ix-indexer-is-deprecated\n",
            "  retval = getattr(retval, self.name)._getitem_axis(key, axis=i)\n"
          ],
          "name": "stderr"
        },
        {
          "output_type": "execute_result",
          "data": {
            "text/html": [
              "<div>\n",
              "<style scoped>\n",
              "    .dataframe tbody tr th:only-of-type {\n",
              "        vertical-align: middle;\n",
              "    }\n",
              "\n",
              "    .dataframe tbody tr th {\n",
              "        vertical-align: top;\n",
              "    }\n",
              "\n",
              "    .dataframe thead th {\n",
              "        text-align: right;\n",
              "    }\n",
              "</style>\n",
              "<table border=\"1\" class=\"dataframe\">\n",
              "  <thead>\n",
              "    <tr style=\"text-align: right;\">\n",
              "      <th></th>\n",
              "      <th>beer_servings</th>\n",
              "      <th>spirit_servings</th>\n",
              "    </tr>\n",
              "    <tr>\n",
              "      <th>country</th>\n",
              "      <th></th>\n",
              "      <th></th>\n",
              "    </tr>\n",
              "  </thead>\n",
              "  <tbody>\n",
              "    <tr>\n",
              "      <th>Albania</th>\n",
              "      <td>89</td>\n",
              "      <td>132</td>\n",
              "    </tr>\n",
              "    <tr>\n",
              "      <th>Algeria</th>\n",
              "      <td>25</td>\n",
              "      <td>0</td>\n",
              "    </tr>\n",
              "    <tr>\n",
              "      <th>Andorra</th>\n",
              "      <td>245</td>\n",
              "      <td>138</td>\n",
              "    </tr>\n",
              "  </tbody>\n",
              "</table>\n",
              "</div>"
            ],
            "text/plain": [
              "         beer_servings  spirit_servings\n",
              "country                                \n",
              "Albania             89              132\n",
              "Algeria             25                0\n",
              "Andorra            245              138"
            ]
          },
          "metadata": {
            "tags": []
          },
          "execution_count": 38
        }
      ]
    },
    {
      "cell_type": "code",
      "metadata": {
        "id": "ae6La9PunDjI",
        "colab_type": "code",
        "colab": {
          "base_uri": "https://localhost:8080/",
          "height": 414
        },
        "outputId": "aafc1496-5bb1-4af8-c1df-a73e8665f573"
      },
      "source": [
        "'''\n",
        "in drinks example we have row  & cols labels as strings \n",
        "hence, 0:2 is treated as positions not as labels so end is excluded\n",
        "'''\n",
        "drinks.ix[0:2, 0:2]"
      ],
      "execution_count": 41,
      "outputs": [
        {
          "output_type": "stream",
          "text": [
            "/usr/local/lib/python3.6/dist-packages/ipykernel_launcher.py:5: FutureWarning: \n",
            ".ix is deprecated. Please use\n",
            ".loc for label based indexing or\n",
            ".iloc for positional indexing\n",
            "\n",
            "See the documentation here:\n",
            "http://pandas.pydata.org/pandas-docs/stable/user_guide/indexing.html#ix-indexer-is-deprecated\n",
            "  \"\"\"\n",
            "/usr/local/lib/python3.6/dist-packages/pandas/core/indexing.py:822: FutureWarning: \n",
            ".ix is deprecated. Please use\n",
            ".loc for label based indexing or\n",
            ".iloc for positional indexing\n",
            "\n",
            "See the documentation here:\n",
            "http://pandas.pydata.org/pandas-docs/stable/user_guide/indexing.html#ix-indexer-is-deprecated\n",
            "  retval = getattr(retval, self.name)._getitem_axis(key, axis=i)\n"
          ],
          "name": "stderr"
        },
        {
          "output_type": "execute_result",
          "data": {
            "text/html": [
              "<div>\n",
              "<style scoped>\n",
              "    .dataframe tbody tr th:only-of-type {\n",
              "        vertical-align: middle;\n",
              "    }\n",
              "\n",
              "    .dataframe tbody tr th {\n",
              "        vertical-align: top;\n",
              "    }\n",
              "\n",
              "    .dataframe thead th {\n",
              "        text-align: right;\n",
              "    }\n",
              "</style>\n",
              "<table border=\"1\" class=\"dataframe\">\n",
              "  <thead>\n",
              "    <tr style=\"text-align: right;\">\n",
              "      <th></th>\n",
              "      <th>beer_servings</th>\n",
              "      <th>spirit_servings</th>\n",
              "    </tr>\n",
              "    <tr>\n",
              "      <th>country</th>\n",
              "      <th></th>\n",
              "      <th></th>\n",
              "    </tr>\n",
              "  </thead>\n",
              "  <tbody>\n",
              "    <tr>\n",
              "      <th>Afghanistan</th>\n",
              "      <td>0</td>\n",
              "      <td>0</td>\n",
              "    </tr>\n",
              "    <tr>\n",
              "      <th>Albania</th>\n",
              "      <td>89</td>\n",
              "      <td>132</td>\n",
              "    </tr>\n",
              "  </tbody>\n",
              "</table>\n",
              "</div>"
            ],
            "text/plain": [
              "             beer_servings  spirit_servings\n",
              "country                                    \n",
              "Afghanistan              0                0\n",
              "Albania                 89              132"
            ]
          },
          "metadata": {
            "tags": []
          },
          "execution_count": 41
        }
      ]
    },
    {
      "cell_type": "code",
      "metadata": {
        "id": "nwqz1RTHnj_h",
        "colab_type": "code",
        "colab": {
          "base_uri": "https://localhost:8080/",
          "height": 414
        },
        "outputId": "156be413-2d99-462e-f95b-c8956187dc57"
      },
      "source": [
        "'''\n",
        "in ufo example we have row labels as integers not strings \n",
        "hence, 0:2 is treated as labels not as positions so start and end are inclusive\n",
        "but in case cols whose labels are strings 0:2 is treated as positions\n",
        "so end value is excluded\n",
        "'''\n",
        "ufo.ix[0:2, 0:2]"
      ],
      "execution_count": 40,
      "outputs": [
        {
          "output_type": "stream",
          "text": [
            "/usr/local/lib/python3.6/dist-packages/ipykernel_launcher.py:1: FutureWarning: \n",
            ".ix is deprecated. Please use\n",
            ".loc for label based indexing or\n",
            ".iloc for positional indexing\n",
            "\n",
            "See the documentation here:\n",
            "http://pandas.pydata.org/pandas-docs/stable/user_guide/indexing.html#ix-indexer-is-deprecated\n",
            "  \"\"\"Entry point for launching an IPython kernel.\n",
            "/usr/local/lib/python3.6/dist-packages/pandas/core/indexing.py:822: FutureWarning: \n",
            ".ix is deprecated. Please use\n",
            ".loc for label based indexing or\n",
            ".iloc for positional indexing\n",
            "\n",
            "See the documentation here:\n",
            "http://pandas.pydata.org/pandas-docs/stable/user_guide/indexing.html#ix-indexer-is-deprecated\n",
            "  retval = getattr(retval, self.name)._getitem_axis(key, axis=i)\n"
          ],
          "name": "stderr"
        },
        {
          "output_type": "execute_result",
          "data": {
            "text/html": [
              "<div>\n",
              "<style scoped>\n",
              "    .dataframe tbody tr th:only-of-type {\n",
              "        vertical-align: middle;\n",
              "    }\n",
              "\n",
              "    .dataframe tbody tr th {\n",
              "        vertical-align: top;\n",
              "    }\n",
              "\n",
              "    .dataframe thead th {\n",
              "        text-align: right;\n",
              "    }\n",
              "</style>\n",
              "<table border=\"1\" class=\"dataframe\">\n",
              "  <thead>\n",
              "    <tr style=\"text-align: right;\">\n",
              "      <th></th>\n",
              "      <th>City</th>\n",
              "      <th>Colors Reported</th>\n",
              "    </tr>\n",
              "  </thead>\n",
              "  <tbody>\n",
              "    <tr>\n",
              "      <th>0</th>\n",
              "      <td>Ithaca</td>\n",
              "      <td>NaN</td>\n",
              "    </tr>\n",
              "    <tr>\n",
              "      <th>1</th>\n",
              "      <td>Willingboro</td>\n",
              "      <td>NaN</td>\n",
              "    </tr>\n",
              "    <tr>\n",
              "      <th>2</th>\n",
              "      <td>Holyoke</td>\n",
              "      <td>NaN</td>\n",
              "    </tr>\n",
              "  </tbody>\n",
              "</table>\n",
              "</div>"
            ],
            "text/plain": [
              "          City Colors Reported\n",
              "0       Ithaca             NaN\n",
              "1  Willingboro             NaN\n",
              "2      Holyoke             NaN"
            ]
          },
          "metadata": {
            "tags": []
          },
          "execution_count": 40
        }
      ]
    }
  ]
}